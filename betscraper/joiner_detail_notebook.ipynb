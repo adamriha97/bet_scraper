{
 "cells": [
  {
   "cell_type": "markdown",
   "metadata": {},
   "source": [
    "# Knihovny"
   ]
  },
  {
   "cell_type": "code",
   "execution_count": 9,
   "metadata": {},
   "outputs": [],
   "source": [
    "import json\n",
    "import pandas as pd\n",
    "import os\n",
    "import numpy as np"
   ]
  },
  {
   "cell_type": "markdown",
   "metadata": {},
   "source": [
    "# Funkce"
   ]
  },
  {
   "cell_type": "code",
   "execution_count": 2,
   "metadata": {},
   "outputs": [],
   "source": [
    "def create_detail_dict(bookmaker_names):\n",
    "    # script_dir = os.path.dirname(os.path.realpath(__file__))\n",
    "    detail_dict = {}\n",
    "    for bookmaker_name in bookmaker_names:\n",
    "        file_path = os.path.join(f\"../data/data_{bookmaker_name}_detail.json\") # join(script_dir, f\"../data/data_{bookmaker_name}_detail.json\")\n",
    "        with open(file_path, 'r') as file:\n",
    "            data = json.load(file)\n",
    "        for item in data:\n",
    "            try:\n",
    "                detail_dict[item['event_url']] = item['bet_dict']\n",
    "            except:\n",
    "                pass\n",
    "    return detail_dict\n",
    "\n",
    "def create_all_bets_df(events, detail_dict):\n",
    "    template_path = 'betscraper/files/detail_dicts/template.json'\n",
    "    with open(template_path, 'r') as file:\n",
    "        full_template = json.load(file)\n",
    "    \n",
    "    all_bets_df = pd.DataFrame(columns=[\n",
    "        'events_id',\n",
    "        'event_url_dict',\n",
    "        'bet_name',\n",
    "        'group_name',\n",
    "        'option_names'\n",
    "    ])\n",
    "\n",
    "    for idx, row in events.iterrows():\n",
    "        new_row = {\n",
    "            'events_id': row['events_id'],\n",
    "            'event_url_dict': row['event_url_dict']\n",
    "        }\n",
    "        try:\n",
    "            template = full_template[row['sport_name']]\n",
    "        except:\n",
    "            template = full_template['other']\n",
    "        for bet_name, group_dict in template.items():\n",
    "            new_row['bet_name'] = bet_name\n",
    "            for group_name, option_dict in group_dict.items():\n",
    "                new_row['group_name'] = group_name\n",
    "                new_row['option_names'] = tuple(option_dict.keys())\n",
    "                new_row['bet_values_dict'] = {}\n",
    "                for bookmaker_name, event_url in row['event_url_dict'].items():\n",
    "                    try:\n",
    "                        new_row['bet_values_dict'][bookmaker_name] = tuple(detail_dict[event_url][bet_name][group_name].values())\n",
    "                    except:\n",
    "                        new_row['bet_values_dict'][bookmaker_name] = tuple(option_dict.values())\n",
    "                new_row_df = pd.DataFrame([new_row])\n",
    "                dfs_to_concat = [df for df in [all_bets_df, new_row_df] if not df.empty and not df.isna().all().all()]\n",
    "                all_bets_df = pd.concat(dfs_to_concat, ignore_index=True)\n",
    "    return all_bets_df\n",
    "\n",
    "def create_sure_bets_df(all_bets_df):\n",
    "    sure_bets_df = pd.DataFrame(columns=[\n",
    "        'events_id',\n",
    "        'bet_name',\n",
    "        'group_name',\n",
    "        'option_names',\n",
    "        'event_url_dict',\n",
    "        'bet_values_dict',\n",
    "        'bet_amounts_100_dict',\n",
    "        'sure_bet_result',\n",
    "    ])\n",
    "\n",
    "    for idx, row in all_bets_df[all_bets_df[\"bet_values_max\"].apply(lambda t: sum(1/x for x in t) < 1)].reset_index(drop=True).iterrows():\n",
    "        new_row = {\n",
    "            'events_id': row['events_id'],\n",
    "            'bet_name': row['bet_name'],\n",
    "            'group_name': row['group_name'],\n",
    "            'option_names': row['option_names']\n",
    "        }\n",
    "        if len(row['option_names']) == 2:\n",
    "            for name_1, values_1 in row['bet_values_dict'].items():\n",
    "                for name_2, values_2 in row['bet_values_dict'].items():\n",
    "                    sure_bet_result = sum(1/x for x in [1 if v < 1 else v for v in (values_1[0], values_2[1])])\n",
    "                    if sure_bet_result < 1:\n",
    "                        new_row['event_url_dict'] = {\n",
    "                            name_1: row['event_url_dict'][name_1],\n",
    "                            name_2: row['event_url_dict'][name_2],\n",
    "                        }\n",
    "                        new_row['bet_values_dict'] = {\n",
    "                            f\"{name_1}_{row['option_names'][0]}\": values_1[0],\n",
    "                            f\"{name_2}_{row['option_names'][1]}\": values_2[1],\n",
    "                        }\n",
    "                        new_row['bet_amounts_100_dict'] = {\n",
    "                            f\"{name_1}_{row['option_names'][0]}\": 100 / values_1[0],\n",
    "                            f\"{name_2}_{row['option_names'][1]}\": 100 / values_2[1],\n",
    "                        }\n",
    "                        new_row['sure_bet_result'] = sure_bet_result\n",
    "                        new_row_df = pd.DataFrame([new_row])\n",
    "                        dfs_to_concat = [df for df in [sure_bets_df, new_row_df] if not df.empty and not df.isna().all().all()]\n",
    "                        sure_bets_df = pd.concat(dfs_to_concat, ignore_index=True)\n",
    "        if len(row['option_names']) == 3:\n",
    "            for name_1, values_1 in row['bet_values_dict'].items():\n",
    "                for name_2, values_2 in row['bet_values_dict'].items():\n",
    "                    for name_3, values_3 in row['bet_values_dict'].items():\n",
    "                        sure_bet_result = sum(1/x for x in [1 if v < 1 else v for v in (values_1[0], values_2[1], values_3[2])])\n",
    "                        if sure_bet_result < 1:\n",
    "                            new_row['event_url_dict'] = {\n",
    "                                name_1: row['event_url_dict'][name_1],\n",
    "                                name_2: row['event_url_dict'][name_2],\n",
    "                                name_3: row['event_url_dict'][name_3],\n",
    "                            }\n",
    "                            new_row['bet_values_dict'] = {\n",
    "                                f\"{name_1}_{row['option_names'][0]}\": values_1[0],\n",
    "                                f\"{name_2}_{row['option_names'][1]}\": values_2[1],\n",
    "                                f\"{name_3}_{row['option_names'][2]}\": values_3[2],\n",
    "                            }\n",
    "                            new_row['bet_amounts_100_dict'] = {\n",
    "                                f\"{name_1}_{row['option_names'][0]}\": 100 / values_1[0],\n",
    "                                f\"{name_2}_{row['option_names'][1]}\": 100 / values_2[1],\n",
    "                                f\"{name_3}_{row['option_names'][2]}\": 100 / values_3[2],\n",
    "                            }\n",
    "                            new_row['sure_bet_result'] = sure_bet_result\n",
    "                            new_row_df = pd.DataFrame([new_row])\n",
    "                            dfs_to_concat = [df for df in [sure_bets_df, new_row_df] if not df.empty and not df.isna().all().all()]\n",
    "                            sure_bets_df = pd.concat(dfs_to_concat, ignore_index=True)\n",
    "    return sure_bets_df\n",
    "\n",
    "def create_value_bets_df(all_bets_df):\n",
    "    value_bets_df = pd.DataFrame(columns=[\n",
    "        'events_id',\n",
    "        'bet_name',\n",
    "        'group_name',\n",
    "        'option_names',\n",
    "        'bookmaker_name',\n",
    "        'event_url',\n",
    "        'option_name',\n",
    "        'bet_value',\n",
    "        'bet_value_fair',\n",
    "        'value_bet_result',\n",
    "    ])\n",
    "\n",
    "    for idx, row in all_bets_df[all_bets_df.apply(lambda row: any(a > b for a, b in zip(row[\"bet_values_max\"], row[\"bet_values_fair\"])), axis=1)].reset_index(drop=True).iterrows():\n",
    "        new_row = {\n",
    "            'events_id': row['events_id'],\n",
    "            'bet_name': row['bet_name'],\n",
    "            'group_name': row['group_name'],\n",
    "            'option_names': row['option_names']\n",
    "        }\n",
    "        for bookmaker_name, bet_values in row['bet_values_dict'].items():\n",
    "            new_row['bookmaker_name'] = bookmaker_name\n",
    "            new_row['event_url'] = row['event_url_dict'][bookmaker_name]\n",
    "            for option_index, (bet_value, bet_value_fair) in enumerate(zip(bet_values, row['bet_values_fair'])):\n",
    "                if bet_value > bet_value_fair:\n",
    "                    new_row['option_name'] = row['option_names'][option_index]\n",
    "                    new_row['bet_value'] = bet_value\n",
    "                    new_row['bet_value_fair'] = bet_value_fair\n",
    "                    new_row['value_bet_result'] = (bet_value - bet_value_fair) / (bet_value_fair - 1)\n",
    "                    new_row_df = pd.DataFrame([new_row])\n",
    "                    dfs_to_concat = [df for df in [value_bets_df, new_row_df] if not df.empty and not df.isna().all().all()]\n",
    "                    value_bets_df = pd.concat(dfs_to_concat, ignore_index=True)\n",
    "    return value_bets_df\n"
   ]
  },
  {
   "cell_type": "markdown",
   "metadata": {},
   "source": [
    "# Main"
   ]
  },
  {
   "cell_type": "code",
   "execution_count": 3,
   "metadata": {},
   "outputs": [],
   "source": [
    "# nahrat detail data do spolecneho detail_dict\n",
    "\n",
    "bookmaker_names = ['betano', 'betx', 'forbet', 'fortuna', 'kingsbet', 'merkur', 'sazka', 'synottip', 'tipsport']\n",
    "detail_dict = create_detail_dict(bookmaker_names)"
   ]
  },
  {
   "cell_type": "code",
   "execution_count": 4,
   "metadata": {},
   "outputs": [],
   "source": [
    "# nahrat tabulku events\n",
    "\n",
    "events = pd.read_pickle('data/events.pkl')"
   ]
  },
  {
   "cell_type": "code",
   "execution_count": 27,
   "metadata": {},
   "outputs": [],
   "source": [
    "# vytvorit dataframe vsech sazek, ktere jsem byl schopen vytahnout pomoci detail spideru\n",
    "\n",
    "all_bets_df = create_all_bets_df(events, detail_dict)"
   ]
  },
  {
   "cell_type": "code",
   "execution_count": 28,
   "metadata": {},
   "outputs": [],
   "source": [
    "# odstranit nepotrebne sazky a doplnit maximalni, prumerne a ferove hodnoty sazek\n",
    "\n",
    "all_bets_df['bet_values_max'] = all_bets_df['bet_values_dict'].apply(lambda x: tuple(max(values) for values in zip(*[t for t in x.values() if t])))\n",
    "all_bets_df = all_bets_df[all_bets_df[\"bet_values_max\"].apply(lambda x: min(x) > 1)].reset_index(drop=True)\n",
    "all_bets_df['bet_values_mean'] = all_bets_df['bet_values_dict'].apply(lambda x: tuple(float(np.mean([y for y in values if y >= 1])) for values in zip(*[t for t in x.values() if t])))\n",
    "all_bets_df['bet_values_fair'] = all_bets_df['bet_values_mean'].apply(lambda x: tuple(b*sum(1/y for y in x) for b in x))\n",
    "\n",
    "# all_bets_df['bet_result'] = all_bets_df['bet_values_max'].apply(lambda t: sum(1/x for x in [1 if x in {0, -1} else x for x in t]))\n",
    "\n",
    "# all_bets_df['bet_result_bool'] = all_bets_df['bet_values_max'].apply(lambda t: sum(1/x for x in [1 if x in {0, -1} else x for x in t]) < 1)"
   ]
  },
  {
   "cell_type": "code",
   "execution_count": 3,
   "metadata": {},
   "outputs": [],
   "source": [
    "# vytvorit tabulku pro sure bets\n",
    "\n",
    "sure_bets_df = create_sure_bets_df(all_bets_df)"
   ]
  },
  {
   "cell_type": "code",
   "execution_count": 7,
   "metadata": {},
   "outputs": [],
   "source": [
    "# vytvorit tabulku pro value bets\n",
    "\n",
    "value_bets_df = create_value_bets_df(all_bets_df)"
   ]
  },
  {
   "cell_type": "code",
   "execution_count": 1,
   "metadata": {},
   "outputs": [],
   "source": [
    "import pandas as pd\n",
    "\n",
    "\n",
    "# nahrat tabulky all_bets_df, sure_bets_df, value_bets_df\n",
    "\n",
    "all_bets_df = pd.read_pickle('data/all_bets_df.pkl')\n",
    "sure_bets_df = pd.read_pickle('data/sure_bets_df.pkl')\n",
    "value_bets_df = pd.read_pickle('data/value_bets_df.pkl')"
   ]
  }
 ],
 "metadata": {
  "kernelspec": {
   "display_name": ".conda",
   "language": "python",
   "name": "python3"
  },
  "language_info": {
   "codemirror_mode": {
    "name": "ipython",
    "version": 3
   },
   "file_extension": ".py",
   "mimetype": "text/x-python",
   "name": "python",
   "nbconvert_exporter": "python",
   "pygments_lexer": "ipython3",
   "version": "3.11.9"
  }
 },
 "nbformat": 4,
 "nbformat_minor": 2
}
