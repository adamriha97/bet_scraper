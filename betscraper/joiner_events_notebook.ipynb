{
 "cells": [
  {
   "cell_type": "markdown",
   "metadata": {},
   "source": [
    "# Knihovny"
   ]
  },
  {
   "cell_type": "code",
   "execution_count": 1,
   "metadata": {},
   "outputs": [],
   "source": [
    "import json\n",
    "import pandas as pd\n",
    "from datetime import datetime, timedelta\n",
    "import os"
   ]
  },
  {
   "cell_type": "markdown",
   "metadata": {},
   "source": [
    "# Funkce"
   ]
  },
  {
   "cell_type": "code",
   "execution_count": 2,
   "metadata": {},
   "outputs": [],
   "source": [
    "def create_dataframes_dict(bookmaker_names):\n",
    "    # script_dir = os.path.dirname(os.path.realpath(__file__))\n",
    "    dataframes_dict = {}\n",
    "    for bookmaker_name in bookmaker_names:\n",
    "        try:\n",
    "            file_path = os.path.join(f\"../data/data_{bookmaker_name}.json\") # join(script_dir, f\"../data/data_{bookmaker_name}.json\")\n",
    "            with open(file_path, 'r') as file:\n",
    "                data = json.load(file)\n",
    "            df = pd.DataFrame(data)[[\n",
    "                'bookmaker_id',\n",
    "                'bookmaker_name',\n",
    "                'sport_name',\n",
    "                'sport_detail',\n",
    "                'country_name',\n",
    "                'event_startTime',\n",
    "                'participant_home_list',\n",
    "                'participant_away_list',\n",
    "                'participants_gender',\n",
    "                'participants_age',\n",
    "                'bet_1',\n",
    "                'bet_0',\n",
    "                'bet_2',\n",
    "                'bet_10',\n",
    "                'bet_02',\n",
    "                'bet_12',\n",
    "                'bet_11',\n",
    "                'bet_22',\n",
    "                'event_id',\n",
    "                'event_url'\n",
    "            ]].apply(lambda col: col.map(lambda x: tuple(x) if isinstance(x, list) else x)).drop_duplicates()\n",
    "            df['event_startTime'] = pd.to_datetime(df['event_startTime'])\n",
    "            df['bet_list'] = tuple(zip(df['bet_1'], df['bet_0'], df['bet_2'], df['bet_10'], df['bet_02'], df['bet_12'], df['bet_11'], df['bet_22']))\n",
    "            dataframes_dict[bookmaker_name] = df.loc[df['sport_name'] != 'special'].reset_index(drop = True)\n",
    "        except:\n",
    "            pass\n",
    "    return dataframes_dict\n",
    "\n",
    "def filter_only_close_days(number_of_days, dataframes_dict):\n",
    "    number_of_days = int(number_of_days)\n",
    "    today = datetime.now()\n",
    "    start_date = today.replace(hour=0, minute=0, second=0, microsecond=0)\n",
    "    end_date = (today + timedelta(days = number_of_days)).replace(hour=23, minute=59, second=59)\n",
    "    for bookmaker_name in dataframes_dict.keys():\n",
    "        dataframes_dict[bookmaker_name] = dataframes_dict[bookmaker_name][\n",
    "            (dataframes_dict[bookmaker_name]['event_startTime'] >= start_date) &\n",
    "            (dataframes_dict[bookmaker_name]['event_startTime'] <= end_date)\n",
    "        ]\n",
    "    return dataframes_dict\n",
    "\n",
    "def clean_participant_names(dataframes_dict, printIndexDrops = False):\n",
    "    for bookmaker_name, df in dataframes_dict.items():\n",
    "        indexes_to_drop = set()\n",
    "        df['participant_home_list_smaller'] = None\n",
    "        df['participant_away_list_smaller'] = None\n",
    "        for idx, row in df.iterrows():\n",
    "            match_df = df[\n",
    "                (df['sport_name'] == row['sport_name']) &\n",
    "                df['sport_detail'].apply(lambda x: x == row['sport_detail'] or x == 'other' or row['sport_detail'] == 'other') &\n",
    "                df['country_name'].apply(lambda x: x == row['country_name'] or x == 'other' or row['country_name'] == 'other') &\n",
    "                (df['event_startTime'] == row['event_startTime']) &\n",
    "                df['participant_home_list'].apply(lambda x: bool(set(x) & set(row['participant_home_list']))) &\n",
    "                df['participant_away_list'].apply(lambda x: bool(set(x) & set(row['participant_away_list']))) &\n",
    "                (df['participants_gender'] == row['participants_gender']) &\n",
    "                (df['participants_age'] == row['participants_age']) &\n",
    "                (df['event_url'] != row['event_url'])\n",
    "            ]\n",
    "            if len(match_df) > 0:\n",
    "                delete_home_list = tuple(set(item for sublist in match_df['participant_home_list'] for item in sublist))\n",
    "                delete_away_list = tuple(set(item for sublist in match_df['participant_away_list'] for item in sublist))\n",
    "                home_list = tuple([word for word in row['participant_home_list'] if word not in delete_home_list])\n",
    "                away_list = tuple([word for word in row['participant_away_list'] if word not in delete_away_list])\n",
    "                if home_list and away_list:\n",
    "                    df.at[idx, 'participant_home_list_smaller'] = home_list\n",
    "                    df.at[idx, 'participant_away_list_smaller'] = away_list\n",
    "                else:\n",
    "                    indexes_to_drop.add(idx)\n",
    "        if printIndexDrops:\n",
    "            print(bookmaker_name, indexes_to_drop)\n",
    "        df.drop(index = indexes_to_drop, inplace = True)\n",
    "        df['participant_home_list'] = df.apply(lambda row: row['participant_home_list_smaller'] if row['participant_home_list_smaller'] is not None else row['participant_home_list'], axis=1)\n",
    "        df['participant_away_list'] = df.apply(lambda row: row['participant_away_list_smaller'] if row['participant_away_list_smaller'] is not None else row['participant_away_list'], axis=1)\n",
    "        df.drop('participant_home_list_smaller', axis=1, inplace=True)\n",
    "        df.drop('participant_away_list_smaller', axis=1, inplace=True)\n",
    "        df.reset_index(drop = True, inplace = True)\n",
    "    return dataframes_dict\n",
    "\n",
    "def create_events_table(dataframes_dict, dropBets = True):\n",
    "    df_all = pd.concat(dataframes_dict.values(), axis=0).reset_index(drop=True)\n",
    "    bookmaker_names = dataframes_dict.keys()\n",
    "    \n",
    "    events = pd.DataFrame(columns=[\n",
    "        'events_id',\n",
    "        'bookmaker_list',\n",
    "        'sport_name',\n",
    "        'sport_detail',\n",
    "        'country_name',\n",
    "        'event_startTime',\n",
    "        'participant_home_list',\n",
    "        'participant_away_list',\n",
    "        'participants_gender',\n",
    "        'participants_age',\n",
    "        'bet_dict',\n",
    "        'event_id_dict',\n",
    "        'event_url_dict'\n",
    "    ])\n",
    "    errors = []\n",
    "        \n",
    "    for idx, row in df_all.iterrows():\n",
    "\n",
    "        url_events = events[events['event_url_dict'].apply(lambda x: row['event_url'] in x.values())]\n",
    "        if url_events.empty: # url tohoto zapasu jeste neni v tabulce events\n",
    "            isError = False\n",
    "\n",
    "            sport_detail = row['sport_detail']\n",
    "            country_name = row['country_name']\n",
    "            participant_home_list = row['participant_home_list']\n",
    "            participant_away_list = row['participant_away_list']\n",
    "            bet_dict = {item: tuple() for item in bookmaker_names}\n",
    "            bet_dict[row['bookmaker_name']] = row['bet_list']\n",
    "            event_id_dict = {item: None for item in bookmaker_names}\n",
    "            event_id_dict[row['bookmaker_name']] = row['event_id']\n",
    "            event_url_dict = {item: None for item in bookmaker_names}\n",
    "            event_url_dict[row['bookmaker_name']] = row['event_url']\n",
    "\n",
    "            bookmaker_search_dict = {item: False for item in bookmaker_names}\n",
    "            bookmaker_search_dict[row['bookmaker_name']] = True\n",
    "            not_searched_bookmakers_list = [key for key, value in bookmaker_search_dict.items() if value is False]\n",
    "\n",
    "            while not_searched_bookmakers_list:\n",
    "                bookmaker_name_searching = not_searched_bookmakers_list[0]\n",
    "                bookmaker_df_searching = dataframes_dict[bookmaker_name_searching]\n",
    "                match_df = bookmaker_df_searching[\n",
    "                    (bookmaker_df_searching['sport_name'] == row['sport_name']) &\n",
    "                    bookmaker_df_searching['sport_detail'].apply(lambda x: x == sport_detail or x == 'other' or sport_detail == 'other') &\n",
    "                    bookmaker_df_searching['country_name'].apply(lambda x: x == country_name or x == 'other' or country_name == 'other') &\n",
    "                    (bookmaker_df_searching['event_startTime'] == row['event_startTime']) &\n",
    "                    bookmaker_df_searching['participant_home_list'].apply(lambda x: bool(set(x) & set(participant_home_list))) &\n",
    "                    bookmaker_df_searching['participant_away_list'].apply(lambda x: bool(set(x) & set(participant_away_list))) &\n",
    "                    (bookmaker_df_searching['participants_gender'] == row['participants_gender']) &\n",
    "                    (bookmaker_df_searching['participants_age'] == row['participants_age'])\n",
    "                ]\n",
    "                if len(match_df) == 0: # v prohledavane tabulce nemame shodu\n",
    "                    bookmaker_search_dict[bookmaker_name_searching] = True\n",
    "                    not_searched_bookmakers_list = [key for key, value in bookmaker_search_dict.items() if value is False]\n",
    "                elif len(match_df) == 1: # v prohledavane tabulce mame prave jednu shodu\n",
    "                    match = match_df.iloc[0]\n",
    "                    if sport_detail == 'other':\n",
    "                        sport_detail = match['sport_detail']\n",
    "                    if country_name == 'other':\n",
    "                        country_name = match['country_name']\n",
    "                    participant_home_list = tuple(set(participant_home_list + match['participant_home_list']))\n",
    "                    participant_away_list = tuple(set(participant_away_list + match['participant_away_list']))\n",
    "                    bet_dict[bookmaker_name_searching] = match['bet_list']\n",
    "                    event_id_dict[bookmaker_name_searching] = match['event_id']\n",
    "                    event_url_dict[bookmaker_name_searching] = match['event_url']\n",
    "                    bookmaker_search_dict = {key: (value is not None) for key, value in event_url_dict.items()}\n",
    "                    not_searched_bookmakers_list = [key for key, value in bookmaker_search_dict.items() if value is False]\n",
    "                else: # v prohledavane tabulce mame vice nez jednu shodu -> error\n",
    "                    error_dict = {\n",
    "                        'sport_name': row['sport_name'],\n",
    "                        'sport_detail': sport_detail,\n",
    "                        'country_name': country_name,\n",
    "                        'event_startTime': row['event_startTime'],\n",
    "                        'participant_home_list': participant_home_list,\n",
    "                        'participant_away_list': participant_away_list,\n",
    "                        'participants_gender': row['participants_gender'],\n",
    "                        'participants_age': row['participants_age'],\n",
    "                        'event_id_dict': event_id_dict,\n",
    "                        'event_url_dict': event_url_dict,\n",
    "                        'match_df': match_df\n",
    "                    }\n",
    "                    errors.append(error_dict)\n",
    "\n",
    "                    isError = True\n",
    "                    event_url_dict[bookmaker_name_searching] = 'error'\n",
    "                    bookmaker_search_dict[bookmaker_name_searching] = True\n",
    "                    not_searched_bookmakers_list = [key for key, value in bookmaker_search_dict.items() if value is False]\n",
    "                    for error_idx, error_row in match_df.iterrows():\n",
    "                        new_error_row = {\n",
    "                            'events_id': 'error',\n",
    "                            'bookmaker_list': ('error',),\n",
    "                            'sport_name': error_row['sport_name'],\n",
    "                            'sport_detail': error_row['sport_detail'],\n",
    "                            'country_name': error_row['country_name'],\n",
    "                            'event_startTime': error_row['event_startTime'],\n",
    "                            'participant_home_list': error_row['participant_home_list'],\n",
    "                            'participant_away_list': error_row['participant_away_list'],\n",
    "                            'participants_gender': error_row['participants_gender'],\n",
    "                            'participants_age': error_row['participants_age'],\n",
    "                            'bet_dict': {item: tuple() for item in bookmaker_names},\n",
    "                            'event_id_dict': {item: None for item in bookmaker_names},\n",
    "                            'event_url_dict': {item: None for item in bookmaker_names}\n",
    "                        }\n",
    "                        new_error_row['bet_dict'][bookmaker_name_searching] = error_row['bet_list']\n",
    "                        new_error_row['event_id_dict'][bookmaker_name_searching] = error_row['event_id']\n",
    "                        new_error_row['event_url_dict'][bookmaker_name_searching] = error_row['event_url']\n",
    "                        new_error_row_df = pd.DataFrame([new_error_row])\n",
    "                        events = pd.concat([events, new_error_row_df], ignore_index=True)\n",
    "            if isError:\n",
    "                bookmaker_list = ('error',)\n",
    "            else:\n",
    "                bookmaker_list = tuple([key for key, value in event_url_dict.items() if value is not None])\n",
    "            events_id = '_'.join([item for item in event_id_dict.values() if item is not None])\n",
    "            new_row = {\n",
    "                'events_id': events_id,\n",
    "                'bookmaker_list': bookmaker_list,\n",
    "                'sport_name': row['sport_name'],\n",
    "                'sport_detail': sport_detail,\n",
    "                'country_name': country_name,\n",
    "                'event_startTime': row['event_startTime'],\n",
    "                'participant_home_list': participant_home_list,\n",
    "                'participant_away_list': participant_away_list,\n",
    "                'participants_gender': row['participants_gender'],\n",
    "                'participants_age': row['participants_age'],\n",
    "                'bet_dict': bet_dict,\n",
    "                'event_id_dict': event_id_dict,\n",
    "                'event_url_dict': event_url_dict\n",
    "            }\n",
    "            new_row_df = pd.DataFrame([new_row])\n",
    "            # events = pd.concat([events, new_row_df], ignore_index=True)\n",
    "            dfs_to_concat = [df for df in [events, new_row_df] if not df.empty and not df.isna().all().all()]\n",
    "            events = pd.concat(dfs_to_concat, ignore_index=True)\n",
    "    \n",
    "    if dropBets:\n",
    "        events.drop('bet_dict', axis=1, inplace=True)\n",
    "        events.reset_index(drop = True, inplace = True)\n",
    "    return events"
   ]
  },
  {
   "cell_type": "markdown",
   "metadata": {},
   "source": [
    "# Main"
   ]
  },
  {
   "cell_type": "code",
   "execution_count": 3,
   "metadata": {},
   "outputs": [],
   "source": [
    "# import subprocess\n",
    "\n",
    "\n",
    "# subprocess.run([\"python\", \"crawler.py\"])"
   ]
  },
  {
   "cell_type": "code",
   "execution_count": 6,
   "metadata": {},
   "outputs": [],
   "source": [
    "# nahrat puvodni data o eventech do dataframu\n",
    "bookmaker_names = ['betano', 'betx', 'forbet', 'fortuna', 'kingsbet', 'merkur', 'sazka', 'synottip', 'tipsport']\n",
    "dataframes_dict = create_dataframes_dict(bookmaker_names)\n",
    "\n",
    "# upravit seznam bookmakeru po tom, jaka data se podari stahnout\n",
    "bookmaker_names = [bn for bn, df in dataframes_dict.items() if not df.empty]"
   ]
  },
  {
   "cell_type": "code",
   "execution_count": 17,
   "metadata": {},
   "outputs": [],
   "source": [
    "# vyfiltrovat pouze omezeny pocet dnu nasledujicihc po dnu stazeni dat\n",
    "\n",
    "number_of_days = 1\n",
    "dataframes_dict = filter_only_close_days(number_of_days, dataframes_dict)"
   ]
  },
  {
   "cell_type": "code",
   "execution_count": 6,
   "metadata": {},
   "outputs": [],
   "source": [
    "# vycistit slova navic v listech obsahujicich jmena jednotlivych tymu\n",
    "\n",
    "printIndexDrops = False\n",
    "dataframes_dict = clean_participant_names(dataframes_dict, printIndexDrops)"
   ]
  },
  {
   "cell_type": "code",
   "execution_count": 7,
   "metadata": {},
   "outputs": [],
   "source": [
    "# vytvorit dataframe obsahujici vsechny puvodni eventy\n",
    "\n",
    "# df_all = pd.concat(dataframes_dict.values(), axis=0).reset_index(drop=True)\n",
    "# len(df_all)"
   ]
  },
  {
   "cell_type": "code",
   "execution_count": 18,
   "metadata": {},
   "outputs": [],
   "source": [
    "# vytvorit spojenou tabulku pro vsechny puvodni eventy\n",
    "\n",
    "dropBets = True\n",
    "events = create_events_table(dataframes_dict, dropBets)"
   ]
  },
  {
   "cell_type": "code",
   "execution_count": 31,
   "metadata": {},
   "outputs": [],
   "source": [
    "# oddelit eventy s errorem\n",
    "\n",
    "# events_with_error = events[events['bookmaker_list'].apply(lambda x: 'error' in x)]\n",
    "events = events[~events['bookmaker_list'].apply(lambda x: 'error' in x)]"
   ]
  },
  {
   "cell_type": "code",
   "execution_count": 32,
   "metadata": {},
   "outputs": [],
   "source": [
    "# oddelit eventy, ktere se na nic nenapoji\n",
    "\n",
    "# events_singlies = events[events['bookmaker_list'].apply(lambda x: len(x) == 1)]\n",
    "events = events[~events['bookmaker_list'].apply(lambda x: len(x) == 1)]"
   ]
  },
  {
   "cell_type": "code",
   "execution_count": 11,
   "metadata": {},
   "outputs": [],
   "source": [
    "# nechat pouze eventy se startem za urcity pocet minut\n",
    "\n",
    "number_of_minutes = 300\n",
    "now_plus_minutes = datetime.now() + timedelta(minutes = number_of_minutes)\n",
    "events = events[events['event_startTime'] >= now_plus_minutes]"
   ]
  },
  {
   "cell_type": "code",
   "execution_count": 21,
   "metadata": {},
   "outputs": [],
   "source": [
    "events_saved = events"
   ]
  },
  {
   "cell_type": "code",
   "execution_count": 22,
   "metadata": {},
   "outputs": [],
   "source": [
    "events = events_saved"
   ]
  },
  {
   "cell_type": "code",
   "execution_count": 14,
   "metadata": {},
   "outputs": [],
   "source": [
    "# nechat pouze eventy, ktere se odehraji do urciteho poctu hodin\n",
    "\n",
    "# number_of_hours = 12\n",
    "# now_plus_hours = datetime.now() + timedelta(hours = number_of_hours)\n",
    "# events = events[events['event_startTime'] <= now_plus_hours]"
   ]
  },
  {
   "cell_type": "code",
   "execution_count": 15,
   "metadata": {},
   "outputs": [],
   "source": [
    "# ulozit tabulku events\n",
    "\n",
    "# events.to_csv('data/events.csv', index=False)\n",
    "events.to_pickle('data/events.pkl')"
   ]
  },
  {
   "cell_type": "code",
   "execution_count": 3,
   "metadata": {},
   "outputs": [],
   "source": [
    "# nahrat tabulku events\n",
    "\n",
    "events = pd.read_pickle('data/events.pkl')"
   ]
  },
  {
   "cell_type": "code",
   "execution_count": 5,
   "metadata": {},
   "outputs": [
    {
     "data": {
      "text/plain": [
       "1557"
      ]
     },
     "execution_count": 5,
     "metadata": {},
     "output_type": "execute_result"
    }
   ],
   "source": [
    "len(events)"
   ]
  },
  {
   "cell_type": "code",
   "execution_count": 40,
   "metadata": {},
   "outputs": [
    {
     "name": "stderr",
     "output_type": "stream",
     "text": [
      "/tmp/ipykernel_138742/4228766862.py:2: FutureWarning: 'H' is deprecated and will be removed in a future version, please use 'h' instead.\n",
      "  grouped = events.groupby(events['event_startTime'].dt.floor('H'))\n"
     ]
    }
   ],
   "source": [
    "# rozdeleni dataframu s eventy na dataframy podle celych hodin\n",
    "hourly_dataframes = {}\n",
    "grouped = events.groupby(events['event_startTime'].dt.floor('H'))\n",
    "for hour, group in grouped:\n",
    "    hourly_dataframes[hour] = group\n",
    "# suma = 0\n",
    "# for hour, dataframe in hourly_dataframes.items():\n",
    "#     print(f\"Dataframe for hour: {hour}\")\n",
    "#     print(len(dataframe))\n",
    "#     suma = suma + len(dataframe)\n",
    "#     print(suma)"
   ]
  },
  {
   "cell_type": "code",
   "execution_count": 4,
   "metadata": {},
   "outputs": [],
   "source": [
    "# rozdeleni dataframu s eventy na dataframy o danem poctu radku\n",
    "events_sorted = events.sort_values(by='event_startTime').reset_index(drop=True)\n",
    "chunk_size = 100\n",
    "events_100_list = [events_sorted.iloc[i:i + chunk_size] for i in range(0, len(events_sorted), chunk_size)]\n",
    "# for i, chunk in enumerate(chunks):\n",
    "#     print(f\"Dataframe chunk {i + 1}:\")\n",
    "#     print(len(chunk))\n",
    "#     print()"
   ]
  },
  {
   "cell_type": "code",
   "execution_count": 7,
   "metadata": {},
   "outputs": [],
   "source": [
    "lists_for_detail_spiders_dict = {}\n",
    "for bookmaker_name in bookmaker_names:\n",
    "    lists_for_detail_spiders_dict[bookmaker_name] = []\n",
    "for sport_name, event_url_dict in zip(events['sport_name'], events['event_url_dict']):\n",
    "    for bookmaker_name, event_url in event_url_dict.items():\n",
    "        if event_url is not None:\n",
    "            lists_for_detail_spiders_dict[bookmaker_name].append({\n",
    "                'sport_name': sport_name,\n",
    "                'event_url': event_url\n",
    "            })\n",
    "lists_for_detail_spiders_dict = {bn: bn_list for bn, bn_list in lists_for_detail_spiders_dict.items() if bn_list}\n",
    "with open('data/lists_for_detail_spiders_dict.json', 'w') as json_file:\n",
    "    json.dump(lists_for_detail_spiders_dict, json_file)"
   ]
  },
  {
   "cell_type": "code",
   "execution_count": 29,
   "metadata": {},
   "outputs": [
    {
     "name": "stdout",
     "output_type": "stream",
     "text": [
      "Number 1: 0\n",
      "Number 2: 303\n",
      "Number 3: 167\n",
      "Number 4: 202\n",
      "Number 5: 146\n",
      "Number 6: 159\n",
      "Number 7: 195\n",
      "Number 8: 173\n",
      "Number 9: 212\n"
     ]
    }
   ],
   "source": [
    "from collections import Counter\n",
    "\n",
    "# Example list\n",
    "numbers = [len(x) for x in list(events['bookmaker_list'])]\n",
    "\n",
    "# Count occurrences\n",
    "counts = Counter(numbers)\n",
    "\n",
    "# Print counts for numbers 1 through 9\n",
    "for num in range(1, 10):\n",
    "    print(f\"Number {num}: {counts[num]}\")"
   ]
  }
 ],
 "metadata": {
  "kernelspec": {
   "display_name": ".conda",
   "language": "python",
   "name": "python3"
  },
  "language_info": {
   "codemirror_mode": {
    "name": "ipython",
    "version": 3
   },
   "file_extension": ".py",
   "mimetype": "text/x-python",
   "name": "python",
   "nbconvert_exporter": "python",
   "pygments_lexer": "ipython3",
   "version": "3.11.9"
  }
 },
 "nbformat": 4,
 "nbformat_minor": 2
}
