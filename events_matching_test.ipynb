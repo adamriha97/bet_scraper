{
 "cells": [
  {
   "cell_type": "code",
   "execution_count": 11,
   "metadata": {},
   "outputs": [
    {
     "name": "stdout",
     "output_type": "stream",
     "text": [
      "Empty DataFrame\n",
      "Columns: [bookmaker_id, bookmaker_name, sport_name, sport_name_original, event_url, event_startTime, participant_home, participant_away, bet_1, bet_0, bet_2, bet_10, bet_02, bet_12, bet_11, bet_22]\n",
      "Index: []\n"
     ]
    }
   ],
   "source": [
    "import json\n",
    "import pandas as pd\n",
    "\n",
    "\n",
    "def load_dataframe(table_name):\n",
    "    global dataframes\n",
    "    with open(f'data/{table_name}.json', 'r') as file:\n",
    "        data = json.load(file)\n",
    "    df = pd.DataFrame(data)\n",
    "    dataframes.append(df)\n",
    "\n",
    "dataframes = []\n",
    "table_names = ['data_betano', 'data_fortuna', 'data_tipsport', 'data_sazka', 'data_merkur', 'data_betx', 'data_forbet', 'data_kingsbet', 'data_synottip']\n",
    "for table_name in table_names:\n",
    "    load_dataframe(table_name)\n",
    "\n",
    "df = pd.concat(dataframes, axis=0)\n",
    "df.reset_index(drop=True, inplace=True)\n",
    "\n",
    "print(df[df['sport_name'] == 'other'])"
   ]
  },
  {
   "cell_type": "code",
   "execution_count": 12,
   "metadata": {},
   "outputs": [
    {
     "name": "stdout",
     "output_type": "stream",
     "text": [
      "Empty DataFrame\n",
      "Columns: [bookmaker_name, sport_name_original]\n",
      "Index: []\n"
     ]
    }
   ],
   "source": [
    "print(df[df['sport_name'] == 'other'][['bookmaker_name', 'sport_name_original']].drop_duplicates())"
   ]
  },
  {
   "cell_type": "code",
   "execution_count": 13,
   "metadata": {},
   "outputs": [
    {
     "name": "stdout",
     "output_type": "stream",
     "text": [
      "      bookmaker_id bookmaker_name  sport_name sport_name_original  \\\n",
      "10              BE         betano  vodni-polo          vodni-polo   \n",
      "11              BE         betano  vodni-polo          vodni-polo   \n",
      "12              BE         betano  vodni-polo          vodni-polo   \n",
      "13              BE         betano  vodni-polo          vodni-polo   \n",
      "1030            FO        fortuna  vodni-polo          vodni-polo   \n",
      "...            ...            ...         ...                 ...   \n",
      "12930           ST       synottip  vodni-polo          Vodní pólo   \n",
      "12960           ST       synottip  vodni-polo          Vodní pólo   \n",
      "12961           ST       synottip  vodni-polo          Vodní pólo   \n",
      "12962           ST       synottip  vodni-polo          Vodní pólo   \n",
      "12963           ST       synottip  vodni-polo          Vodní pólo   \n",
      "\n",
      "                                               event_url      event_startTime  \\\n",
      "10     https://www.betano.cz/zapas-sance/cn-barcelone...  2024-10-09 18:15:00   \n",
      "11     https://www.betano.cz/zapas-sance/cn-marseille...  2024-10-09 20:00:00   \n",
      "12     https://www.betano.cz/zapas-sance/savona-sabad...  2024-10-09 20:00:00   \n",
      "13     https://www.betano.cz/zapas-sance/keruleti-tve...  2024-10-09 18:30:00   \n",
      "1030   https://www.ifortuna.cz/sazeni/vodni-polo/liga...  2024-10-09 18:15:00   \n",
      "...                                                  ...                  ...   \n",
      "12930  https://sport.synottip.cz/zapasy/48/2346301cxx...  2024-10-10 19:00:00   \n",
      "12960  https://sport.synottip.cz/zapasy/48/2346303cxx...  2024-10-10 19:30:00   \n",
      "12961  https://sport.synottip.cz/zapasy/48/2346305cxx...  2024-10-10 19:30:00   \n",
      "12962  https://sport.synottip.cz/zapasy/48/2346302cxx...  2024-10-10 20:00:00   \n",
      "12963  https://sport.synottip.cz/zapasy/48/2346306cxx...  2024-10-10 20:00:00   \n",
      "\n",
      "       participant_home participant_away  bet_1  bet_0  bet_2  bet_10  bet_02  \\\n",
      "10       CN Barceloneta            Vasas   1.03  14.00  14.00    -1.0    -1.0   \n",
      "11         CN Marseille        Jadran HN   1.37   7.80   4.15    -1.0    -1.0   \n",
      "12               Savona         Sabadell   1.70   7.30   2.70    -1.0    -1.0   \n",
      "13     Keruleti TVE (Ž)         Eger (Ž)   3.60   7.50   1.43    -1.0    -1.0   \n",
      "1030        Barceloneta            Vasas   1.06  15.50  11.50    -1.0    -1.0   \n",
      "...                 ...              ...    ...    ...    ...     ...     ...   \n",
      "12930            VK Jug  Apollon Smyrnis   1.11  10.37   8.02    -1.0    -1.0   \n",
      "12960        CC Ortigia   Vouliagmeni NC   2.26   6.35   1.92    -1.0    -1.0   \n",
      "12961         Panionios       BVSC-Zuglo   2.41   6.66   1.80    -1.0    -1.0   \n",
      "12962        AN Brescia    Sn Strasbourg   1.08  11.34   9.47    -1.0    -1.0   \n",
      "12963          VK Šabac  Budapešť Honvéd   1.15   9.60   6.73    -1.0    -1.0   \n",
      "\n",
      "       bet_12  bet_11  bet_22  \n",
      "10       -1.0    -1.0    -1.0  \n",
      "11       -1.0    -1.0    -1.0  \n",
      "12       -1.0    -1.0    -1.0  \n",
      "13       -1.0    -1.0    -1.0  \n",
      "1030     -1.0    -1.0    -1.0  \n",
      "...       ...     ...     ...  \n",
      "12930    -1.0    -1.0    -1.0  \n",
      "12960    -1.0    -1.0    -1.0  \n",
      "12961    -1.0    -1.0    -1.0  \n",
      "12962    -1.0    -1.0    -1.0  \n",
      "12963    -1.0    -1.0    -1.0  \n",
      "\n",
      "[78 rows x 16 columns]\n"
     ]
    }
   ],
   "source": [
    "print(df[df['sport_name'] == 'vodni-polo'])"
   ]
  },
  {
   "cell_type": "code",
   "execution_count": 14,
   "metadata": {},
   "outputs": [
    {
     "name": "stdout",
     "output_type": "stream",
     "text": [
      "Empty DataFrame\n",
      "Columns: [bookmaker_id, bookmaker_name, sport_name, sport_name_original, event_url, event_startTime, participant_home, participant_away, bet_1, bet_0, bet_2, bet_10, bet_02, bet_12, bet_11, bet_22]\n",
      "Index: []\n"
     ]
    }
   ],
   "source": [
    "# Find duplicated rows (considering all columns)\n",
    "duplicated_rows = df[df.duplicated(keep=False)]\n",
    "\n",
    "# Display duplicated rows\n",
    "print(duplicated_rows)"
   ]
  }
 ],
 "metadata": {
  "kernelspec": {
   "display_name": "Python 3",
   "language": "python",
   "name": "python3"
  },
  "language_info": {
   "codemirror_mode": {
    "name": "ipython",
    "version": 3
   },
   "file_extension": ".py",
   "mimetype": "text/x-python",
   "name": "python",
   "nbconvert_exporter": "python",
   "pygments_lexer": "ipython3",
   "version": "3.11.9"
  }
 },
 "nbformat": 4,
 "nbformat_minor": 2
}
