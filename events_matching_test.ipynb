{
 "cells": [
  {
   "cell_type": "code",
   "execution_count": 1,
   "metadata": {},
   "outputs": [
    {
     "name": "stdout",
     "output_type": "stream",
     "text": [
      "Empty DataFrame\n",
      "Columns: [bookmaker_id, bookmaker_name, sport_name, sport_name_original, event_url, event_startTime, participant_home, participant_away, bet_1, bet_0, bet_2, bet_10, bet_02, bet_12, bet_11, bet_22]\n",
      "Index: []\n"
     ]
    }
   ],
   "source": [
    "import json\n",
    "import pandas as pd\n",
    "\n",
    "\n",
    "def load_dataframe(table_name):\n",
    "    global dataframes\n",
    "    with open(f'data/{table_name}.json', 'r') as file:\n",
    "        data = json.load(file)\n",
    "    df = pd.DataFrame(data)\n",
    "    dataframes.append(df)\n",
    "\n",
    "dataframes = []\n",
    "table_names = ['data_betano', 'data_fortuna', 'data_tipsport', 'data_sazka', 'data_merkur', 'data_betx', 'data_forbet', 'data_kingsbet', 'data_synottip']\n",
    "for table_name in table_names:\n",
    "    load_dataframe(table_name)\n",
    "\n",
    "df = pd.concat(dataframes, axis=0)\n",
    "df.reset_index(drop=True, inplace=True)\n",
    "\n",
    "print(df[df['sport_name'] == 'other'])"
   ]
  },
  {
   "cell_type": "code",
   "execution_count": 2,
   "metadata": {},
   "outputs": [
    {
     "name": "stdout",
     "output_type": "stream",
     "text": [
      "Empty DataFrame\n",
      "Columns: [bookmaker_name, sport_name_original]\n",
      "Index: []\n"
     ]
    }
   ],
   "source": [
    "print(df[df['sport_name'] == 'other'][['bookmaker_name', 'sport_name_original']].drop_duplicates())"
   ]
  },
  {
   "cell_type": "code",
   "execution_count": 3,
   "metadata": {},
   "outputs": [
    {
     "name": "stdout",
     "output_type": "stream",
     "text": [
      "      bookmaker_id bookmaker_name  sport_name sport_name_original  \\\n",
      "21              BE         betano  vodni-polo          vodni-polo   \n",
      "22              BE         betano  vodni-polo          vodni-polo   \n",
      "23              BE         betano  vodni-polo          vodni-polo   \n",
      "1193            FO        fortuna  vodni-polo          vodni-polo   \n",
      "1194            FO        fortuna  vodni-polo          vodni-polo   \n",
      "1195            FO        fortuna  vodni-polo          vodni-polo   \n",
      "1196            FO        fortuna  vodni-polo          vodni-polo   \n",
      "4560            TS       tipsport  vodni-polo          Vodní pólo   \n",
      "4561            TS       tipsport  vodni-polo          Vodní pólo   \n",
      "4562            TS       tipsport  vodni-polo          Vodní pólo   \n",
      "4563            TS       tipsport  vodni-polo          Vodní pólo   \n",
      "5050            SA          sazka  vodni-polo          Vodní pólo   \n",
      "5051            SA          sazka  vodni-polo          Vodní pólo   \n",
      "5052            SA          sazka  vodni-polo          Vodní pólo   \n",
      "5053            SA          sazka  vodni-polo          Vodní pólo   \n",
      "8775            BX           betx  vodni-polo           Waterpolo   \n",
      "8776            BX           betx  vodni-polo           Waterpolo   \n",
      "8777            BX           betx  vodni-polo           Waterpolo   \n",
      "8778            BX           betx  vodni-polo           Waterpolo   \n",
      "10083           FB         forbet  vodni-polo          Vodní pólo   \n",
      "10084           FB         forbet  vodni-polo          Vodní pólo   \n",
      "10085           FB         forbet  vodni-polo          Vodní pólo   \n",
      "10086           FB         forbet  vodni-polo          Vodní pólo   \n",
      "10193           KB       kingsbet  vodni-polo          Vodní pólo   \n",
      "10194           KB       kingsbet  vodni-polo          Vodní pólo   \n",
      "10195           KB       kingsbet  vodni-polo          Vodní pólo   \n",
      "10196           KB       kingsbet  vodni-polo          Vodní pólo   \n",
      "12428           ST       synottip  vodni-polo          Vodní pólo   \n",
      "12429           ST       synottip  vodni-polo          Vodní pólo   \n",
      "12430           ST       synottip  vodni-polo          Vodní pólo   \n",
      "12431           ST       synottip  vodni-polo          Vodní pólo   \n",
      "\n",
      "                                               event_url      event_startTime  \\\n",
      "21     https://www.betano.cz/zapas-sance/cn-barcelone...  2024-10-09 18:15:00   \n",
      "22     https://www.betano.cz/zapas-sance/cn-marseille...  2024-10-09 20:00:00   \n",
      "23     https://www.betano.cz/zapas-sance/savona-sabad...  2024-10-09 20:00:00   \n",
      "1193   https://www.ifortuna.cz/sazeni/vodni-polo/liga...  2024-10-09 18:15:00   \n",
      "1194   https://www.ifortuna.cz/sazeni/vodni-polo/liga...  2024-10-09 18:15:00   \n",
      "1195   https://www.ifortuna.cz/sazeni/vodni-polo/liga...  2024-10-09 20:00:00   \n",
      "1196   https://www.ifortuna.cz/sazeni/vodni-polo/liga...  2024-10-09 20:00:00   \n",
      "4560   https://www.tipsport.cz/kurzy/zapas/vodni-polo...  2024-10-09 17:15:00   \n",
      "4561   https://www.tipsport.cz/kurzy/zapas/vodni-polo...  2024-10-09 18:15:00   \n",
      "4562   https://www.tipsport.cz/kurzy/zapas/vodni-polo...  2024-10-09 20:00:00   \n",
      "4563   https://www.tipsport.cz/kurzy/zapas/vodni-polo...  2024-10-09 20:00:00   \n",
      "5050   https://www.sazka.cz/kurzove-sazky/sports/even...  2024-10-09 18:15:00   \n",
      "5051   https://www.sazka.cz/kurzove-sazky/sports/even...  2024-10-09 18:15:00   \n",
      "5052   https://www.sazka.cz/kurzove-sazky/sports/even...  2024-10-09 20:00:00   \n",
      "5053   https://www.sazka.cz/kurzove-sazky/sports/even...  2024-10-09 20:00:00   \n",
      "8775   https://bet-x.cz/cs/sports-betting/offer/water...  2024-10-09 18:15:00   \n",
      "8776   https://bet-x.cz/cs/sports-betting/offer/water...  2024-10-09 20:00:00   \n",
      "8777   https://bet-x.cz/cs/sports-betting/offer/water...  2024-10-09 18:15:00   \n",
      "8778   https://bet-x.cz/cs/sports-betting/offer/water...  2024-10-09 20:00:00   \n",
      "10083   https://www.iforbet.cz/prematch/event/MA53660247  2024-10-09 18:15:00   \n",
      "10084   https://www.iforbet.cz/prematch/event/MA53660249  2024-10-09 20:00:00   \n",
      "10085   https://www.iforbet.cz/prematch/event/MA53660271  2024-10-09 18:15:00   \n",
      "10086   https://www.iforbet.cz/prematch/event/MA53660273  2024-10-09 20:00:00   \n",
      "10193  https://www.kingsbet.cz/sport?page=event&event...  2024-10-09 18:15:00   \n",
      "10194  https://www.kingsbet.cz/sport?page=event&event...  2024-10-09 18:15:00   \n",
      "10195  https://www.kingsbet.cz/sport?page=event&event...  2024-10-09 20:00:00   \n",
      "10196  https://www.kingsbet.cz/sport?page=event&event...  2024-10-09 20:00:00   \n",
      "12428  https://sport.synottip.cz/zapasy/48/2343617cxx...  2024-10-09 18:15:00   \n",
      "12429  https://sport.synottip.cz/zapasy/48/2343492cxx...  2024-10-09 18:15:00   \n",
      "12430  https://sport.synottip.cz/zapasy/48/2343741cxx...  2024-10-09 20:00:00   \n",
      "12431  https://sport.synottip.cz/zapasy/48/2343742cxx...  2024-10-09 20:00:00   \n",
      "\n",
      "         participant_home        participant_away   bet_1  bet_0  bet_2  \\\n",
      "21         CN Barceloneta                   Vasas  1.0300  14.00  14.00   \n",
      "22           CN Marseille               Jadran HN  1.3700   7.80   4.15   \n",
      "23                 Savona                Sabadell  1.7000   6.70   2.75   \n",
      "1193          Barceloneta                   Vasas  1.0600  14.00  12.50   \n",
      "1194           Olympiakos          Primorac Kotor  1.0100  18.50  21.00   \n",
      "1195               Savona             CN Sabadell  1.7900   6.60   2.68   \n",
      "1196            Marseille               Jadran HN  1.4400   7.40   3.90   \n",
      "4560    Olympiakos Pireus          Primorac Kotor  1.0100  18.00  18.50   \n",
      "4561          Barceloneta          Vasas Budapest  1.0500  14.00  13.30   \n",
      "4562         CN Marseille      Jadran Herceg Novi  1.4500   7.75   3.59   \n",
      "4563               Savona                Sabadell  1.9500   5.85   2.41   \n",
      "5050       CN Barceloneta                Vasas SC  1.0600  12.00  12.00   \n",
      "5051   Olympiakos Piraeus       VK Primorac Kotor -1.0000  18.00  19.00   \n",
      "5052         CN Marseille       Pvk Jadran Carine  1.4400   6.50   3.85   \n",
      "5053            RN Savona             CN Sabadell  1.8300   5.75   2.60   \n",
      "8775      Cna Barceloneta                Vasas SC  1.0600  13.00  12.00   \n",
      "8776         Cn Marseille  Pvk Jadran Herceg Novi  1.4300   7.20   3.85   \n",
      "8777           Olympiakos       VK Primorac Kotor  1.0100  17.00  19.00   \n",
      "8778            RN Savona             Cn Sabadell  1.8100   6.20   2.60   \n",
      "10083      CN Barceloneta                Vasas SC  1.0600  13.00  12.00   \n",
      "10084           Marseille               Jadran HN  1.4300   7.20   3.85   \n",
      "10085          Olympiakos                Primorac  1.0100  17.00  19.00   \n",
      "10086              Savona                Sabadell  1.8100   6.20   2.60   \n",
      "10193     CNA Barceloneta                Vasas SC  1.0589  14.00  12.00   \n",
      "10194          Olympiakos       VK Primorac Kotor  1.0100  17.00  20.00   \n",
      "10195        CN Marseille  Pvk Jadran Herceg Novi  1.4445   7.00   3.80   \n",
      "10196           RN Savona             Cn Sabadell  1.8182   6.00   2.60   \n",
      "12428     CNA Barceloneta                Vasas SC  1.0600  12.07  11.14   \n",
      "12429          Olympiakos       VK Primorac Kotor -1.0000  14.67  16.31   \n",
      "12430        CN Marseille       PVK Jadran Carine  1.4100   6.89   3.74   \n",
      "12431           RN Savona             CN Sabadell  1.7800   6.05   2.54   \n",
      "\n",
      "       bet_10  bet_02  bet_12  bet_11  bet_22  \n",
      "21      -1.00   -1.00   -1.00    -1.0    -1.0  \n",
      "22      -1.00   -1.00   -1.00    -1.0    -1.0  \n",
      "23      -1.00   -1.00   -1.00    -1.0    -1.0  \n",
      "1193    -1.00   -1.00   -1.00    -1.0    -1.0  \n",
      "1194    -1.00   -1.00   -1.00    -1.0    -1.0  \n",
      "1195    -1.00   -1.00   -1.00    -1.0    -1.0  \n",
      "1196    -1.00   -1.00   -1.00    -1.0    -1.0  \n",
      "4560     1.00    9.00   -1.00    -1.0    -1.0  \n",
      "4561     1.01    6.85   -1.00    -1.0    -1.0  \n",
      "4562     1.23    2.46   -1.00    -1.0    -1.0  \n",
      "4563     1.46    1.71   -1.00    -1.0    -1.0  \n",
      "5050    -1.00   -1.00   -1.00    -1.0    -1.0  \n",
      "5051    -1.00   -1.00   -1.00    -1.0    -1.0  \n",
      "5052    -1.00   -1.00   -1.00    -1.0    -1.0  \n",
      "5053    -1.00   -1.00   -1.00    -1.0    -1.0  \n",
      "8775     0.00    0.00    0.00    -1.0    -1.0  \n",
      "8776     0.00    0.00    0.00    -1.0    -1.0  \n",
      "8777     0.00    0.00    0.00    -1.0    -1.0  \n",
      "8778     0.00    0.00    0.00    -1.0    -1.0  \n",
      "10083    0.00    6.20    0.00    -1.0    -1.0  \n",
      "10084    1.19    2.51    1.04    -1.0    -1.0  \n",
      "10085    0.00    9.00    0.00    -1.0    -1.0  \n",
      "10086    1.40    1.83    1.07    -1.0    -1.0  \n",
      "10193   -1.00   -1.00   -1.00    -1.0    -1.0  \n",
      "10194   -1.00   -1.00   -1.00    -1.0    -1.0  \n",
      "10195   -1.00   -1.00   -1.00    -1.0    -1.0  \n",
      "10196   -1.00   -1.00   -1.00    -1.0    -1.0  \n",
      "12428   -1.00   -1.00   -1.00    -1.0    -1.0  \n",
      "12429   -1.00   -1.00   -1.00    -1.0    -1.0  \n",
      "12430   -1.00   -1.00   -1.00    -1.0    -1.0  \n",
      "12431   -1.00   -1.00   -1.00    -1.0    -1.0  \n"
     ]
    }
   ],
   "source": [
    "print(df[df['sport_name'] == 'vodni-polo'])"
   ]
  },
  {
   "cell_type": "code",
   "execution_count": 4,
   "metadata": {},
   "outputs": [
    {
     "name": "stdout",
     "output_type": "stream",
     "text": [
      "Empty DataFrame\n",
      "Columns: [bookmaker_id, bookmaker_name, sport_name, sport_name_original, event_url, event_startTime, participant_home, participant_away, bet_1, bet_0, bet_2, bet_10, bet_02, bet_12, bet_11, bet_22]\n",
      "Index: []\n"
     ]
    }
   ],
   "source": [
    "# Find duplicated rows (considering all columns)\n",
    "duplicated_rows = df[df.duplicated(keep=False)]\n",
    "\n",
    "# Display duplicated rows\n",
    "print(duplicated_rows)"
   ]
  }
 ],
 "metadata": {
  "kernelspec": {
   "display_name": "Python 3",
   "language": "python",
   "name": "python3"
  },
  "language_info": {
   "codemirror_mode": {
    "name": "ipython",
    "version": 3
   },
   "file_extension": ".py",
   "mimetype": "text/x-python",
   "name": "python",
   "nbconvert_exporter": "python",
   "pygments_lexer": "ipython3",
   "version": "3.11.9"
  }
 },
 "nbformat": 4,
 "nbformat_minor": 2
}
