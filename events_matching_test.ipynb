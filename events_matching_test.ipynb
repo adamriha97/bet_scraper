{
 "cells": [
  {
   "cell_type": "code",
   "execution_count": 18,
   "metadata": {},
   "outputs": [
    {
     "name": "stdout",
     "output_type": "stream",
     "text": [
      "Empty DataFrame\n",
      "Columns: [bookmaker_id, bookmaker_name, sport_name, sport_name_original, primary_category_original, secondary_category_original, event_startTime, participant_home, participant_away, participants_gender, participants_age, bet_1, bet_0, bet_2, bet_10, bet_02, bet_12, bet_11, bet_22, event_url]\n",
      "Index: []\n"
     ]
    }
   ],
   "source": [
    "import json\n",
    "import pandas as pd\n",
    "\n",
    "\n",
    "def load_dataframe(table_name):\n",
    "    global dataframes\n",
    "    with open(f'data/{table_name}.json', 'r') as file:\n",
    "        data = json.load(file)\n",
    "    df = pd.DataFrame(data)\n",
    "    dataframes.append(df)\n",
    "\n",
    "dataframes = []\n",
    "table_names = ['data_betano', 'data_fortuna', 'data_tipsport', 'data_sazka', 'data_merkur', 'data_betx', 'data_forbet', 'data_kingsbet', 'data_synottip']\n",
    "for table_name in table_names:\n",
    "    load_dataframe(table_name)\n",
    "\n",
    "df = pd.concat(dataframes, axis=0)\n",
    "df.reset_index(drop=True, inplace=True)\n",
    "\n",
    "print(df[df['sport_name'] == 'other'])"
   ]
  },
  {
   "cell_type": "code",
   "execution_count": 19,
   "metadata": {},
   "outputs": [
    {
     "name": "stdout",
     "output_type": "stream",
     "text": [
      "Empty DataFrame\n",
      "Columns: [bookmaker_name, sport_name_original]\n",
      "Index: []\n"
     ]
    }
   ],
   "source": [
    "print(df[df['sport_name'] == 'other'][['bookmaker_name', 'sport_name_original']].drop_duplicates())"
   ]
  },
  {
   "cell_type": "code",
   "execution_count": 21,
   "metadata": {},
   "outputs": [
    {
     "name": "stdout",
     "output_type": "stream",
     "text": [
      "      bookmaker_id bookmaker_name  sport_name sport_name_original  \\\n",
      "150             BE         betano  vodni-polo          vodni-polo   \n",
      "1526            FO        fortuna  vodni-polo          vodni-polo   \n",
      "4976            TS       tipsport  vodni-polo          Vodní pólo   \n",
      "5081            SA          sazka  vodni-polo          Vodní pólo   \n",
      "9879            BX           betx  vodni-polo           Waterpolo   \n",
      "11418           FB         forbet  vodni-polo          Vodní pólo   \n",
      "11454           KB       kingsbet  vodni-polo          Vodní pólo   \n",
      "13511           ST       synottip  vodni-polo          Vodní pólo   \n",
      "\n",
      "      primary_category_original secondary_category_original  \\\n",
      "150                      Itálie                          A1   \n",
      "1526                     Itálie                    1.Itálie   \n",
      "4976          Vodní pólo - muži                Italská liga   \n",
      "5081                     Itálie               Itálie 1.liga   \n",
      "9879                     Itálie                    Serie A1   \n",
      "11418                    Itálie              Serie A1, muži   \n",
      "11454                    Itálie                    Serie A1   \n",
      "13511                    Itálie                    Serie A1   \n",
      "\n",
      "           event_startTime participant_home participant_away  \\\n",
      "150    2024-10-13 15:00:00           Quinto          Brescia   \n",
      "1526   2024-10-13 15:00:00           Quinto          Brescia   \n",
      "4976   2024-10-13 15:00:00     Quinto Genoa          Brescia   \n",
      "5081   2024-10-13 15:00:00        SC Quinto       AN Brescia   \n",
      "9879   2024-10-13 15:00:00        SC Quinto       AN Brescia   \n",
      "11418  2024-10-13 15:00:00        SC Quinto          Brescia   \n",
      "11454  2024-10-13 15:00:00        SC Quinto       AN Brescia   \n",
      "13511  2024-10-13 15:00:00        SC Quinto       AN Brescia   \n",
      "\n",
      "      participants_gender participants_age  bet_1  bet_0   bet_2  bet_10  \\\n",
      "150                                          7.40  11.00  1.1400   -1.00   \n",
      "1526                                         6.80  10.00  1.1900   -1.00   \n",
      "4976                 muzi                    7.08   9.60  1.1800    4.06   \n",
      "5081                                         6.50   8.50  1.2000   -1.00   \n",
      "9879                                         6.60   9.60  1.1800    0.00   \n",
      "11418                muzi                    6.60   9.60  1.1800    3.90   \n",
      "11454                                        6.50  10.00  1.1819   -1.00   \n",
      "13511                                        6.29   9.19  1.1700   -1.00   \n",
      "\n",
      "       bet_02  bet_12  bet_11  bet_22  \\\n",
      "150     -1.00    -1.0    -1.0    -1.0   \n",
      "1526    -1.00    -1.0    -1.0    -1.0   \n",
      "4976     1.05    -1.0    -1.0    -1.0   \n",
      "5081    -1.00    -1.0    -1.0    -1.0   \n",
      "9879     0.00     0.0    -1.0    -1.0   \n",
      "11418    1.05     0.0    -1.0    -1.0   \n",
      "11454   -1.00    -1.0    -1.0    -1.0   \n",
      "13511   -1.00    -1.0    -1.0    -1.0   \n",
      "\n",
      "                                               event_url  \n",
      "150    https://www.betano.cz/zapas-sance/quinto-bresc...  \n",
      "1526   https://www.ifortuna.cz/sazeni/vodni-polo/1-it...  \n",
      "4976   https://www.tipsport.cz/kurzy/zapas/vodni-polo...  \n",
      "5081   https://www.sazka.cz/kurzove-sazky/sports/even...  \n",
      "9879   https://bet-x.cz/cs/sports-betting/offer/water...  \n",
      "11418   https://www.iforbet.cz/prematch/event/MA53699179  \n",
      "11454  https://www.kingsbet.cz/sport?page=event&event...  \n",
      "13511  https://sport.synottip.cz/zapasy/48/2351489cxx...  \n"
     ]
    }
   ],
   "source": [
    "print(df[df['sport_name'] == 'vodni-polo'])"
   ]
  },
  {
   "cell_type": "code",
   "execution_count": 22,
   "metadata": {},
   "outputs": [
    {
     "name": "stdout",
     "output_type": "stream",
     "text": [
      "Empty DataFrame\n",
      "Columns: [bookmaker_id, bookmaker_name, sport_name, sport_name_original, primary_category_original, secondary_category_original, event_startTime, participant_home, participant_away, participants_gender, participants_age, bet_1, bet_0, bet_2, bet_10, bet_02, bet_12, bet_11, bet_22, event_url]\n",
      "Index: []\n"
     ]
    }
   ],
   "source": [
    "# Find duplicated rows (considering all columns)\n",
    "duplicated_rows = df[df.duplicated(keep=False)]\n",
    "\n",
    "# Display duplicated rows\n",
    "print(duplicated_rows)"
   ]
  }
 ],
 "metadata": {
  "kernelspec": {
   "display_name": "Python 3",
   "language": "python",
   "name": "python3"
  },
  "language_info": {
   "codemirror_mode": {
    "name": "ipython",
    "version": 3
   },
   "file_extension": ".py",
   "mimetype": "text/x-python",
   "name": "python",
   "nbconvert_exporter": "python",
   "pygments_lexer": "ipython3",
   "version": "3.11.9"
  }
 },
 "nbformat": 4,
 "nbformat_minor": 2
}
