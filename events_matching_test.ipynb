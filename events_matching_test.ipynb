{
 "cells": [
  {
   "cell_type": "code",
   "execution_count": 13,
   "metadata": {},
   "outputs": [
    {
     "name": "stdout",
     "output_type": "stream",
     "text": [
      "Empty DataFrame\n",
      "Columns: [bookmaker_id, bookmaker_name, sport_name, sport_name_original, country_name, primary_category_original, secondary_category_original, event_startTime, participant_home, participant_away, participants_gender, participants_age, bet_1, bet_0, bet_2, bet_10, bet_02, bet_12, bet_11, bet_22, event_url]\n",
      "Index: []\n",
      "\n",
      "[0 rows x 21 columns]\n"
     ]
    }
   ],
   "source": [
    "import json\n",
    "import pandas as pd\n",
    "\n",
    "\n",
    "def load_dataframe(table_name):\n",
    "    global dataframes\n",
    "    with open(f'data/{table_name}.json', 'r') as file:\n",
    "        data = json.load(file)\n",
    "    df = pd.DataFrame(data)\n",
    "    dataframes.append(df)\n",
    "\n",
    "dataframes = []\n",
    "table_names = ['data_betano', 'data_fortuna', 'data_tipsport', 'data_sazka', 'data_merkur', 'data_betx', 'data_forbet', 'data_kingsbet', 'data_synottip']\n",
    "for table_name in table_names:\n",
    "    load_dataframe(table_name)\n",
    "\n",
    "df = pd.concat(dataframes, axis=0)\n",
    "df.reset_index(drop=True, inplace=True)\n",
    "\n",
    "print(df[df['sport_name'] == 'other'])"
   ]
  },
  {
   "cell_type": "code",
   "execution_count": 14,
   "metadata": {},
   "outputs": [
    {
     "name": "stdout",
     "output_type": "stream",
     "text": [
      "Empty DataFrame\n",
      "Columns: [bookmaker_name, sport_name_original]\n",
      "Index: []\n"
     ]
    }
   ],
   "source": [
    "print(df[df['sport_name'] == 'other'][['bookmaker_name', 'sport_name_original']].drop_duplicates())"
   ]
  },
  {
   "cell_type": "code",
   "execution_count": 15,
   "metadata": {},
   "outputs": [
    {
     "name": "stdout",
     "output_type": "stream",
     "text": [
      "      bookmaker_id bookmaker_name  sport_name sport_name_original  \\\n",
      "1239            BE         betano  vodni-polo          vodni-polo   \n",
      "1240            BE         betano  vodni-polo          vodni-polo   \n",
      "1241            BE         betano  vodni-polo          vodni-polo   \n",
      "1242            BE         betano  vodni-polo          vodni-polo   \n",
      "1243            BE         betano  vodni-polo          vodni-polo   \n",
      "...            ...            ...         ...                 ...   \n",
      "14685           ST       synottip  vodni-polo          Vodní pólo   \n",
      "14686           ST       synottip  vodni-polo          Vodní pólo   \n",
      "14687           ST       synottip  vodni-polo          Vodní pólo   \n",
      "14688           ST       synottip  vodni-polo          Vodní pólo   \n",
      "14689           ST       synottip  vodni-polo          Vodní pólo   \n",
      "\n",
      "      country_name primary_category_original secondary_category_original  \\\n",
      "1239        Evropa                    Evropa     Adriatic Premier League   \n",
      "1240        Evropa                    Evropa     Adriatic Premier League   \n",
      "1241        Evropa                    Evropa     Adriatic Premier League   \n",
      "1242        Evropa                    Evropa     Adriatic Premier League   \n",
      "1243        Itálie                    Itálie                          A1   \n",
      "...            ...                       ...                         ...   \n",
      "14685  Mezinárodní               Mezinárodní             Adriatická liga   \n",
      "14686       Itálie                    Itálie                    Serie A1   \n",
      "14687       Itálie                    Itálie                    Serie A1   \n",
      "14688     Maďarsko                  Maďarsko                        OB I   \n",
      "14689     Maďarsko                  Maďarsko                        OB I   \n",
      "\n",
      "           event_startTime    participant_home        participant_away  ...  \\\n",
      "1239   2024-10-19 17:45:00        Jadran Split           Jug Dubrovnik  ...   \n",
      "1240   2024-10-19 18:00:00      Mladost Zagreb          VK Primorje EB  ...   \n",
      "1241   2024-10-19 19:00:00               Valis           Crvena Zvezda  ...   \n",
      "1242   2024-10-19 19:00:00  VPK Primorac Kotor                 Solaris  ...   \n",
      "1243   2024-10-19 18:00:00           Florentia           Roma Vis Nova  ...   \n",
      "...                    ...                 ...                     ...  ...   \n",
      "14685  2024-10-20 19:00:00            VK Šabac  VK Radnički Kragujevac  ...   \n",
      "14686  2024-10-19 18:00:00        RN Florentia           Roma Vis Nova  ...   \n",
      "14687  2024-10-20 15:00:00          CC Ortigia              Nuoto Roma  ...   \n",
      "14688  2024-10-19 19:00:00        PVSK Füszért            OSC Budapešť  ...   \n",
      "14689  2024-10-20 19:00:00         Szentesi VK         Budapešť Honvéd  ...   \n",
      "\n",
      "      participants_age  bet_1  bet_0  bet_2  bet_10  bet_02  bet_12  bet_11  \\\n",
      "1239                     1.42   7.10   3.75    -1.0    -1.0    -1.0    -1.0   \n",
      "1240                     1.11  10.75   9.00    -1.0    -1.0    -1.0    -1.0   \n",
      "1241                     8.25  10.00   1.12    -1.0    -1.0    -1.0    -1.0   \n",
      "1242                     1.15  10.00   8.00    -1.0    -1.0    -1.0    -1.0   \n",
      "1243                     2.40   6.90   1.85    -1.0    -1.0    -1.0    -1.0   \n",
      "...                ...    ...    ...    ...     ...     ...     ...     ...   \n",
      "14685                    4.14   6.75   1.37    -1.0    -1.0    -1.0    -1.0   \n",
      "14686                    2.26   6.32   1.97    -1.0    -1.0    -1.0    -1.0   \n",
      "14687                    1.04  12.52  12.50    -1.0    -1.0    -1.0    -1.0   \n",
      "14688                   15.49  15.43   1.02    -1.0    -1.0    -1.0    -1.0   \n",
      "14689                    2.69   6.16   1.71    -1.0    -1.0    -1.0    -1.0   \n",
      "\n",
      "       bet_22                                          event_url  \n",
      "1239     -1.0  https://www.betano.cz/zapas-sance/jadran-split...  \n",
      "1240     -1.0  https://www.betano.cz/zapas-sance/mladost-zagr...  \n",
      "1241     -1.0  https://www.betano.cz/zapas-sance/valis-crvena...  \n",
      "1242     -1.0  https://www.betano.cz/zapas-sance/vpk-primorac...  \n",
      "1243     -1.0  https://www.betano.cz/zapas-sance/florentia-ro...  \n",
      "...       ...                                                ...  \n",
      "14685    -1.0  https://sport.synottip.cz/zapasy/48/2364717cxx...  \n",
      "14686    -1.0  https://sport.synottip.cz/zapasy/48/2363737cxx...  \n",
      "14687    -1.0  https://sport.synottip.cz/zapasy/48/2364387cxx...  \n",
      "14688    -1.0  https://sport.synottip.cz/zapasy/48/2362824cxx...  \n",
      "14689    -1.0  https://sport.synottip.cz/zapasy/48/2364980cxx...  \n",
      "\n",
      "[70 rows x 21 columns]\n"
     ]
    }
   ],
   "source": [
    "print(df[df['sport_name'] == 'vodni-polo'])"
   ]
  },
  {
   "cell_type": "code",
   "execution_count": 16,
   "metadata": {},
   "outputs": [
    {
     "name": "stdout",
     "output_type": "stream",
     "text": [
      "Empty DataFrame\n",
      "Columns: [bookmaker_id, bookmaker_name, sport_name, sport_name_original, country_name, primary_category_original, secondary_category_original, event_startTime, participant_home, participant_away, participants_gender, participants_age, bet_1, bet_0, bet_2, bet_10, bet_02, bet_12, bet_11, bet_22, event_url]\n",
      "Index: []\n",
      "\n",
      "[0 rows x 21 columns]\n"
     ]
    }
   ],
   "source": [
    "# Find duplicated rows (considering all columns)\n",
    "duplicated_rows = df[df.duplicated(keep=False)]\n",
    "\n",
    "# Display duplicated rows\n",
    "print(duplicated_rows)"
   ]
  }
 ],
 "metadata": {
  "kernelspec": {
   "display_name": "Python 3",
   "language": "python",
   "name": "python3"
  },
  "language_info": {
   "codemirror_mode": {
    "name": "ipython",
    "version": 3
   },
   "file_extension": ".py",
   "mimetype": "text/x-python",
   "name": "python",
   "nbconvert_exporter": "python",
   "pygments_lexer": "ipython3",
   "version": "3.11.9"
  }
 },
 "nbformat": 4,
 "nbformat_minor": 2
}
