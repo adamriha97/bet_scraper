{
 "cells": [
  {
   "cell_type": "code",
   "execution_count": 36,
   "metadata": {},
   "outputs": [
    {
     "name": "stdout",
     "output_type": "stream",
     "text": [
      "Empty DataFrame\n",
      "Columns: [bookmaker_id, bookmaker_name, sport_name, sport_name_original, country_name, country_name_original, primary_category_original, secondary_category_original, event_startTime, participant_home, participant_away, participants_gender, participants_age, bet_1, bet_0, bet_2, bet_10, bet_02, bet_12, bet_11, bet_22, event_url]\n",
      "Index: []\n",
      "\n",
      "[0 rows x 22 columns]\n"
     ]
    }
   ],
   "source": [
    "import json\n",
    "import pandas as pd\n",
    "\n",
    "\n",
    "def load_dataframe(table_name):\n",
    "    global dataframes\n",
    "    with open(f'data/{table_name}.json', 'r') as file:\n",
    "        data = json.load(file)\n",
    "    df = pd.DataFrame(data)\n",
    "    dataframes.append(df)\n",
    "\n",
    "dataframes = []\n",
    "table_names = ['data_betano', 'data_fortuna', 'data_tipsport', 'data_sazka', 'data_merkur', 'data_betx', 'data_forbet', 'data_kingsbet', 'data_synottip']\n",
    "for table_name in table_names:\n",
    "    load_dataframe(table_name)\n",
    "\n",
    "df = pd.concat(dataframes, axis=0)\n",
    "df.reset_index(drop=True, inplace=True)\n",
    "\n",
    "print(df[df['sport_name'] == 'other'])"
   ]
  },
  {
   "cell_type": "code",
   "execution_count": 37,
   "metadata": {},
   "outputs": [
    {
     "name": "stdout",
     "output_type": "stream",
     "text": [
      "Empty DataFrame\n",
      "Columns: [bookmaker_name, sport_name_original]\n",
      "Index: []\n"
     ]
    }
   ],
   "source": [
    "print(df[df['sport_name'] == 'other'][['bookmaker_name', 'sport_name_original']].drop_duplicates())"
   ]
  },
  {
   "cell_type": "code",
   "execution_count": 38,
   "metadata": {},
   "outputs": [
    {
     "name": "stdout",
     "output_type": "stream",
     "text": [
      "      bookmaker_id bookmaker_name  sport_name sport_name_original  \\\n",
      "209             BE         betano  vodni-polo          vodni-polo   \n",
      "210             BE         betano  vodni-polo          vodni-polo   \n",
      "211             BE         betano  vodni-polo          vodni-polo   \n",
      "1824            FO        fortuna  vodni-polo          vodni-polo   \n",
      "1825            FO        fortuna  vodni-polo          vodni-polo   \n",
      "1826            FO        fortuna  vodni-polo          vodni-polo   \n",
      "1827            FO        fortuna  vodni-polo          vodni-polo   \n",
      "5493            TS       tipsport  vodni-polo          Vodní pólo   \n",
      "5494            TS       tipsport  vodni-polo          Vodní pólo   \n",
      "5605            SA          sazka  vodni-polo          Vodní pólo   \n",
      "5606            SA          sazka  vodni-polo          Vodní pólo   \n",
      "7802            ME         merkur  vodni-polo          Vodní pólo   \n",
      "7803            ME         merkur  vodni-polo          Vodní pólo   \n",
      "10616           BX           betx  vodni-polo           Waterpolo   \n",
      "10617           BX           betx  vodni-polo           Waterpolo   \n",
      "10618           BX           betx  vodni-polo           Waterpolo   \n",
      "10619           BX           betx  vodni-polo           Waterpolo   \n",
      "12325           FB         forbet  vodni-polo          Vodní pólo   \n",
      "12326           FB         forbet  vodni-polo          Vodní pólo   \n",
      "12327           FB         forbet  vodni-polo          Vodní pólo   \n",
      "12328           FB         forbet  vodni-polo          Vodní pólo   \n",
      "12569           KB       kingsbet  vodni-polo          Vodní pólo   \n",
      "12570           KB       kingsbet  vodni-polo          Vodní pólo   \n",
      "12571           KB       kingsbet  vodni-polo          Vodní pólo   \n",
      "14529           ST       synottip  vodni-polo          Vodní pólo   \n",
      "14530           ST       synottip  vodni-polo          Vodní pólo   \n",
      "14531           ST       synottip  vodni-polo          Vodní pólo   \n",
      "14532           ST       synottip  vodni-polo          Vodní pólo   \n",
      "\n",
      "      country_name    country_name_original primary_category_original  \\\n",
      "209          other                   Evropa                    Evropa   \n",
      "210         italie                   Itálie                    Itálie   \n",
      "211       madarsko                 Maďarsko                  Maďarsko   \n",
      "1824                                 Itálie                    Itálie   \n",
      "1825                               Maďarsko                  Maďarsko   \n",
      "1826                Regional Premier League   Regional Premier League   \n",
      "1827                Regional Premier League   Regional Premier League   \n",
      "5493                      Vodní pólo - muži         Vodní pólo - muži   \n",
      "5494                      Vodní pólo - muži         Vodní pólo - muži   \n",
      "5605                               Maďarsko                  Maďarsko   \n",
      "5606                                 Itálie                    Itálie   \n",
      "7802                                 Itálie                    Itálie   \n",
      "7803                               Maďarsko                  Maďarsko   \n",
      "10616                                Itálie                    Itálie   \n",
      "10617                              Maďarsko                  Maďarsko   \n",
      "10618                           Mezinárodní               Mezinárodní   \n",
      "10619                           Mezinárodní               Mezinárodní   \n",
      "12325                           Mezinárodní               Mezinárodní   \n",
      "12326                           Mezinárodní               Mezinárodní   \n",
      "12327                                Itálie                    Itálie   \n",
      "12328                              Maďarsko                  Maďarsko   \n",
      "12569                           Mezinárodní               Mezinárodní   \n",
      "12570                           Mezinárodní               Mezinárodní   \n",
      "12571                                Itálie                    Itálie   \n",
      "14529                           Mezinárodní               Mezinárodní   \n",
      "14530                           Mezinárodní               Mezinárodní   \n",
      "14531                                Itálie                    Itálie   \n",
      "14532                              Maďarsko                  Maďarsko   \n",
      "\n",
      "      secondary_category_original      event_startTime  participant_home  ...  \\\n",
      "209       Adriatic Premier League  2024-10-20 19:00:00             Sabac  ...   \n",
      "210                            A1  2024-10-20 15:00:00           Ortigia  ...   \n",
      "211                          OB I  2024-10-20 19:00:00          Szentesi  ...   \n",
      "1824                     1.Itálie  2024-10-20 15:00:00           Ortigia  ...   \n",
      "1825                   1.Maďarsko  2024-10-20 19:00:00           Szentes  ...   \n",
      "1826      Regional Premier League  2024-10-20 19:00:00          VK Sabac  ...   \n",
      "1827      Regional Premier League  2024-10-21 19:00:00      Novi Beograd  ...   \n",
      "5493                 Italská liga  2024-10-20 15:00:00  Ortigia Siracusa  ...   \n",
      "5494                Maďarská liga  2024-10-20 19:00:00           Szentes  ...   \n",
      "5605              Maďarsko 1.liga  2024-10-20 19:00:00       Szentesi VK  ...   \n",
      "5606                Itálie 1.liga  2024-10-20 15:00:00        CC Ortigia  ...   \n",
      "7802                     Serie A1  2024-10-20 15:00:00           Ortigia  ...   \n",
      "7803                         OB I  2024-10-20 19:00:00          Szentesi  ...   \n",
      "10616                    Serie A1  2024-10-20 15:00:00        CC Ortigia  ...   \n",
      "10617                        OB I  2024-10-20 19:00:00       Szentesi VK  ...   \n",
      "10618             Adriatická liga  2024-10-20 19:00:00          VK Šabac  ...   \n",
      "10619             Adriatická liga  2024-10-21 19:00:00   Vk Novi Beograd  ...   \n",
      "12325       Adriatic League, muži  2024-10-20 19:00:00             Sabac  ...   \n",
      "12326       Adriatic League, muži  2024-10-21 19:00:00     Novi Belgrade  ...   \n",
      "12327              Serie A1, muži  2024-10-20 15:00:00           Ortigia  ...   \n",
      "12328                  OB I, muži  2024-10-20 19:00:00           Szentes  ...   \n",
      "12569             Adriatická liga  2024-10-20 19:00:00          VK Sabac  ...   \n",
      "12570             Adriatická liga  2024-10-21 19:00:00  Vk Novi Belgrade  ...   \n",
      "12571                    Serie A1  2024-10-20 15:00:00        CC Ortigia  ...   \n",
      "14529             Adriatická liga  2024-10-20 19:00:00          VK Šabac  ...   \n",
      "14530             Adriatická liga  2024-10-21 19:00:00  VK Novi Bělehrad  ...   \n",
      "14531                    Serie A1  2024-10-20 15:00:00        CC Ortigia  ...   \n",
      "14532                        OB I  2024-10-20 19:00:00       Szentesi VK  ...   \n",
      "\n",
      "      participants_age   bet_1  bet_0  bet_2  bet_10  bet_02  bet_12  bet_11  \\\n",
      "209                     4.5000   9.00   1.29   -1.00   -1.00   -1.00    -1.0   \n",
      "210                     1.0200  15.00  15.00   -1.00   -1.00   -1.00    -1.0   \n",
      "211                     2.9500   6.80   1.62   -1.00   -1.00   -1.00    -1.0   \n",
      "1824                    1.0500  15.50  15.50   -1.00   -1.00   -1.00    -1.0   \n",
      "1825                    2.6800   6.80   1.76   -1.00   -1.00   -1.00    -1.0   \n",
      "1826                    4.2500   8.70   1.35   -1.00   -1.00   -1.00    -1.0   \n",
      "1827                    1.2900   9.10   5.00   -1.00   -1.00   -1.00    -1.0   \n",
      "5493                    1.0400  15.00  14.20    1.00    7.32   -1.00    -1.0   \n",
      "5494                    2.8700   6.65   1.67    2.01    1.34   -1.00    -1.0   \n",
      "5605                    2.7500   5.75   1.73   -1.00   -1.00   -1.00    -1.0   \n",
      "5606                    1.0400  13.00  13.00   -1.00   -1.00   -1.00    -1.0   \n",
      "7802                    1.0500  14.00  14.00   -1.00   -1.00   -1.00    -1.0   \n",
      "7803                    2.7500   6.25   1.72   -1.00   -1.00   -1.00    -1.0   \n",
      "10616                   1.0500  14.00  14.00    0.00    0.00    0.00    -1.0   \n",
      "10617                   2.7500   6.40   1.73    0.00    0.00    0.00    -1.0   \n",
      "10618                   4.2000   8.40   1.34    0.00    0.00    0.00    -1.0   \n",
      "10619                   1.2800   8.80   4.90    0.00    0.00    0.00    -1.0   \n",
      "12325                   4.2000   8.40   1.34    2.80    1.16    1.02    -1.0   \n",
      "12326                   1.2800   8.80   4.90    1.12    3.15    1.01    -1.0   \n",
      "12327                   1.0500  14.00  14.00    0.00    7.00    0.00    -1.0   \n",
      "12328                   2.7500   6.40   1.73    1.92    1.36    1.06    -1.0   \n",
      "12569                   4.2500   8.00   1.35   -1.00   -1.00   -1.00    -1.0   \n",
      "12570                   1.2858   9.00   4.75   -1.00   -1.00   -1.00    -1.0   \n",
      "12571                   1.0500  13.00  14.00   -1.00   -1.00   -1.00    -1.0   \n",
      "14529                   4.1000   8.06   1.33   -1.00   -1.00   -1.00    -1.0   \n",
      "14530                   1.2600   8.50   4.75   -1.00   -1.00   -1.00    -1.0   \n",
      "14531                   1.0400  12.52  12.50   -1.00   -1.00   -1.00    -1.0   \n",
      "14532                   2.6900   6.16   1.71   -1.00   -1.00   -1.00    -1.0   \n",
      "\n",
      "       bet_22                                          event_url  \n",
      "209      -1.0  https://www.betano.cz/zapas-sance/sabac-radnic...  \n",
      "210      -1.0  https://www.betano.cz/zapas-sance/ortigia-nuot...  \n",
      "211      -1.0  https://www.betano.cz/zapas-sance/szentesi-hon...  \n",
      "1824     -1.0  https://www.ifortuna.cz/sazeni/vodni-polo/1-it...  \n",
      "1825     -1.0  https://www.ifortuna.cz/sazeni/vodni-polo/1-ma...  \n",
      "1826     -1.0  https://www.ifortuna.cz/sazeni/vodni-polo/regi...  \n",
      "1827     -1.0  https://www.ifortuna.cz/sazeni/vodni-polo/regi...  \n",
      "5493     -1.0  https://www.tipsport.cz/kurzy/zapas/vodni-polo...  \n",
      "5494     -1.0  https://www.tipsport.cz/kurzy/zapas/vodni-polo...  \n",
      "5605     -1.0  https://www.sazka.cz/kurzove-sazky/sports/even...  \n",
      "5606     -1.0  https://www.sazka.cz/kurzove-sazky/sports/even...  \n",
      "7802     -1.0  https://www.merkurxtip.cz/sazeni/online/vodni-...  \n",
      "7803     -1.0  https://www.merkurxtip.cz/sazeni/online/vodni-...  \n",
      "10616    -1.0  https://bet-x.cz/cs/sports-betting/offer/water...  \n",
      "10617    -1.0  https://bet-x.cz/cs/sports-betting/offer/water...  \n",
      "10618    -1.0  https://bet-x.cz/cs/sports-betting/offer/water...  \n",
      "10619    -1.0  https://bet-x.cz/cs/sports-betting/offer/water...  \n",
      "12325    -1.0   https://www.iforbet.cz/prematch/event/MA53624755  \n",
      "12326    -1.0   https://www.iforbet.cz/prematch/event/MA53624759  \n",
      "12327    -1.0   https://www.iforbet.cz/prematch/event/MA53699197  \n",
      "12328    -1.0   https://www.iforbet.cz/prematch/event/MA53297291  \n",
      "12569    -1.0  https://www.kingsbet.cz/sport?page=event&event...  \n",
      "12570    -1.0  https://www.kingsbet.cz/sport?page=event&event...  \n",
      "12571    -1.0  https://www.kingsbet.cz/sport?page=event&event...  \n",
      "14529    -1.0  https://sport.synottip.cz/zapasy/48/2364717cxx...  \n",
      "14530    -1.0  https://sport.synottip.cz/zapasy/48/2363739cxx...  \n",
      "14531    -1.0  https://sport.synottip.cz/zapasy/48/2364387cxx...  \n",
      "14532    -1.0  https://sport.synottip.cz/zapasy/48/2364980cxx...  \n",
      "\n",
      "[28 rows x 22 columns]\n"
     ]
    }
   ],
   "source": [
    "print(df[df['sport_name'] == 'vodni-polo'])"
   ]
  },
  {
   "cell_type": "code",
   "execution_count": 39,
   "metadata": {},
   "outputs": [
    {
     "name": "stdout",
     "output_type": "stream",
     "text": [
      "Empty DataFrame\n",
      "Columns: [bookmaker_id, bookmaker_name, sport_name, sport_name_original, country_name, country_name_original, primary_category_original, secondary_category_original, event_startTime, participant_home, participant_away, participants_gender, participants_age, bet_1, bet_0, bet_2, bet_10, bet_02, bet_12, bet_11, bet_22, event_url]\n",
      "Index: []\n",
      "\n",
      "[0 rows x 22 columns]\n"
     ]
    }
   ],
   "source": [
    "# Find duplicated rows (considering all columns)\n",
    "duplicated_rows = df[df.duplicated(keep=False)]\n",
    "\n",
    "# Display duplicated rows\n",
    "print(duplicated_rows)"
   ]
  },
  {
   "cell_type": "code",
   "execution_count": 41,
   "metadata": {},
   "outputs": [
    {
     "name": "stdout",
     "output_type": "stream",
     "text": [
      "     bookmaker_name country_name    country_name_original\n",
      "84           betano        other                      ATP\n",
      "37           betano        other  Beach Pro Tour Elite 16\n",
      "62           betano        other                      Box\n",
      "940          betano        other           CONMEBOL Clubs\n",
      "225          betano        other               Challenger\n",
      "29           betano        other           Counter Strike\n",
      "1679         betano        other                  Esoccer\n",
      "85           betano        other                   Evropa\n",
      "55           betano        other            Evropská tour\n",
      "350          betano        other            Evropské ligy\n",
      "379          betano        other                 ITF muži\n",
      "478          betano        other                 ITF ženy\n",
      "265          betano        other           Jadranská liga\n",
      "716          betano        other            Jižní Amerika\n",
      "122          betano        other            King of Glory\n",
      "35           betano        other        League of Legends\n",
      "0            betano        other              Mezinárodní\n",
      "109          betano        other                      PFL\n",
      "120          betano        other              Rainbow Six\n",
      "98           betano        other                      UFC\n",
      "36           betano        other                 Valorant\n",
      "156          betano        other                      WTA\n"
     ]
    },
    {
     "name": "stderr",
     "output_type": "stream",
     "text": [
      "/tmp/ipykernel_296473/2370765631.py:2: UserWarning: Boolean Series key will be reindexed to match DataFrame index.\n",
      "  print(df[df['bookmaker_name'] == 'betano'][df['country_name'] == 'other'][['bookmaker_name', 'country_name', 'country_name_original']].drop_duplicates().sort_values(by='country_name_original'))\n"
     ]
    }
   ],
   "source": [
    "pd.set_option('display.max_rows', None)\n",
    "print(df[df['bookmaker_name'] == 'betano'][df['country_name'] == 'other'][['bookmaker_name', 'country_name', 'country_name_original']].drop_duplicates().sort_values(by='country_name_original'))\n",
    "pd.reset_option('display.max_rows')"
   ]
  }
 ],
 "metadata": {
  "kernelspec": {
   "display_name": "Python 3",
   "language": "python",
   "name": "python3"
  },
  "language_info": {
   "codemirror_mode": {
    "name": "ipython",
    "version": 3
   },
   "file_extension": ".py",
   "mimetype": "text/x-python",
   "name": "python",
   "nbconvert_exporter": "python",
   "pygments_lexer": "ipython3",
   "version": "3.11.9"
  }
 },
 "nbformat": 4,
 "nbformat_minor": 2
}
