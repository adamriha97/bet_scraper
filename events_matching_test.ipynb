{
 "cells": [
  {
   "cell_type": "code",
   "execution_count": 10,
   "metadata": {},
   "outputs": [
    {
     "name": "stdout",
     "output_type": "stream",
     "text": [
      "Empty DataFrame\n",
      "Columns: [bookmaker_id, bookmaker_name, sport_name, sport_name_original, primary_category_original, secondary_category_original, event_startTime, participant_home, participant_away, participants_gender, participants_age, bet_1, bet_0, bet_2, bet_10, bet_02, bet_12, bet_11, bet_22, event_url]\n",
      "Index: []\n"
     ]
    }
   ],
   "source": [
    "import json\n",
    "import pandas as pd\n",
    "\n",
    "\n",
    "def load_dataframe(table_name):\n",
    "    global dataframes\n",
    "    with open(f'data/{table_name}.json', 'r') as file:\n",
    "        data = json.load(file)\n",
    "    df = pd.DataFrame(data)\n",
    "    dataframes.append(df)\n",
    "\n",
    "dataframes = []\n",
    "table_names = ['data_betano', 'data_fortuna', 'data_tipsport', 'data_sazka', 'data_merkur', 'data_betx', 'data_forbet', 'data_kingsbet', 'data_synottip']\n",
    "for table_name in table_names:\n",
    "    load_dataframe(table_name)\n",
    "\n",
    "df = pd.concat(dataframes, axis=0)\n",
    "df.reset_index(drop=True, inplace=True)\n",
    "\n",
    "print(df[df['sport_name'] == 'other'])"
   ]
  },
  {
   "cell_type": "code",
   "execution_count": 11,
   "metadata": {},
   "outputs": [
    {
     "name": "stdout",
     "output_type": "stream",
     "text": [
      "Empty DataFrame\n",
      "Columns: [bookmaker_name, sport_name_original]\n",
      "Index: []\n"
     ]
    }
   ],
   "source": [
    "print(df[df['sport_name'] == 'other'][['bookmaker_name', 'sport_name_original']].drop_duplicates())"
   ]
  },
  {
   "cell_type": "code",
   "execution_count": 12,
   "metadata": {},
   "outputs": [
    {
     "name": "stdout",
     "output_type": "stream",
     "text": [
      "      bookmaker_id bookmaker_name  sport_name sport_name_original  \\\n",
      "109             BE         betano  vodni-polo          vodni-polo   \n",
      "141             BE         betano  vodni-polo          vodni-polo   \n",
      "142             BE         betano  vodni-polo          vodni-polo   \n",
      "143             BE         betano  vodni-polo          vodni-polo   \n",
      "144             BE         betano  vodni-polo          vodni-polo   \n",
      "...            ...            ...         ...                 ...   \n",
      "16076           ST       synottip  vodni-polo          Vodní pólo   \n",
      "16077           ST       synottip  vodni-polo          Vodní pólo   \n",
      "16078           ST       synottip  vodni-polo          Vodní pólo   \n",
      "16079           ST       synottip  vodni-polo          Vodní pólo   \n",
      "16127           ST       synottip  vodni-polo          Vodní pólo   \n",
      "\n",
      "      primary_category_original secondary_category_original  \\\n",
      "109                      Evropa     Adriatic Premier League   \n",
      "141                      Itálie                          A1   \n",
      "142                      Itálie                          A1   \n",
      "143                    Maďarsko                        OB I   \n",
      "144                    Maďarsko                        OB I   \n",
      "...                         ...                         ...   \n",
      "16076                    Itálie                    Serie A1   \n",
      "16077                    Itálie                    Serie A1   \n",
      "16078                  Maďarsko                        OB I   \n",
      "16079                  Maďarsko                        OB I   \n",
      "16127                  Maďarsko                        OB I   \n",
      "\n",
      "           event_startTime    participant_home participant_away  \\\n",
      "109    2024-10-11 20:15:00      VK Primorje EB          Solaris   \n",
      "141    2024-10-12 15:00:00       Roma Vis Nova          Ortigia   \n",
      "142    2024-10-12 15:00:00             Telimar       Nuoto Roma   \n",
      "143    2024-10-11 17:00:00           Kaposvari        Debreceni   \n",
      "144    2024-10-12 15:30:00            Szolnoki     OSC Budapest   \n",
      "...                    ...                 ...              ...   \n",
      "16076  2024-10-12 15:45:00  Pallanuoto Trieste    Nuoto Catania   \n",
      "16077  2024-10-12 18:00:00        CN Posillipo     RN Florentia   \n",
      "16078  2024-10-11 17:00:00        Kaposvári VK    Debreceni VSE   \n",
      "16079  2024-10-12 15:30:00      Szolnoki Dózsa     OSC Budapešť   \n",
      "16127  2024-10-12 17:00:00          Szegedi VE         Vasas SC   \n",
      "\n",
      "      participants_gender participants_age  bet_1  bet_0  bet_2  bet_10  \\\n",
      "109                                          1.53   6.90   3.20    -1.0   \n",
      "141                                          4.70   8.25   1.30    -1.0   \n",
      "142                                          1.12  11.75   8.50    -1.0   \n",
      "143                                          1.25   8.75   5.30    -1.0   \n",
      "144                                          1.62   6.90   2.92    -1.0   \n",
      "...                   ...              ...    ...    ...    ...     ...   \n",
      "16076                                       -1.00  14.34  17.22    -1.0   \n",
      "16077                                        1.32   7.69   4.35    -1.0   \n",
      "16078                                        1.30   7.96   4.70    -1.0   \n",
      "16079                                        1.71   6.19   2.68    -1.0   \n",
      "16127                                        4.86   8.24   1.26    -1.0   \n",
      "\n",
      "       bet_02  bet_12  bet_11  bet_22  \\\n",
      "109      -1.0    -1.0    -1.0    -1.0   \n",
      "141      -1.0    -1.0    -1.0    -1.0   \n",
      "142      -1.0    -1.0    -1.0    -1.0   \n",
      "143      -1.0    -1.0    -1.0    -1.0   \n",
      "144      -1.0    -1.0    -1.0    -1.0   \n",
      "...       ...     ...     ...     ...   \n",
      "16076    -1.0    -1.0    -1.0    -1.0   \n",
      "16077    -1.0    -1.0    -1.0    -1.0   \n",
      "16078    -1.0    -1.0    -1.0    -1.0   \n",
      "16079    -1.0    -1.0    -1.0    -1.0   \n",
      "16127    -1.0    -1.0    -1.0    -1.0   \n",
      "\n",
      "                                               event_url  \n",
      "109    https://www.betano.cz/zapas-sance/vk-primorje-...  \n",
      "141    https://www.betano.cz/zapas-sance/roma-vis-nov...  \n",
      "142    https://www.betano.cz/zapas-sance/telimar-nuot...  \n",
      "143    https://www.betano.cz/zapas-sance/kaposvari-de...  \n",
      "144    https://www.betano.cz/zapas-sance/szolnoki-osc...  \n",
      "...                                                  ...  \n",
      "16076  https://sport.synottip.cz/zapasy/48/2350497cxx...  \n",
      "16077  https://sport.synottip.cz/zapasy/48/2350449cxx...  \n",
      "16078  https://sport.synottip.cz/zapasy/48/2350435cxx...  \n",
      "16079  https://sport.synottip.cz/zapasy/48/2350436cxx...  \n",
      "16127  https://sport.synottip.cz/zapasy/48/2350437cxx...  \n",
      "\n",
      "[84 rows x 20 columns]\n"
     ]
    }
   ],
   "source": [
    "print(df[df['sport_name'] == 'vodni-polo'])"
   ]
  },
  {
   "cell_type": "code",
   "execution_count": 13,
   "metadata": {},
   "outputs": [
    {
     "name": "stdout",
     "output_type": "stream",
     "text": [
      "Empty DataFrame\n",
      "Columns: [bookmaker_id, bookmaker_name, sport_name, sport_name_original, primary_category_original, secondary_category_original, event_startTime, participant_home, participant_away, participants_gender, participants_age, bet_1, bet_0, bet_2, bet_10, bet_02, bet_12, bet_11, bet_22, event_url]\n",
      "Index: []\n"
     ]
    }
   ],
   "source": [
    "# Find duplicated rows (considering all columns)\n",
    "duplicated_rows = df[df.duplicated(keep=False)]\n",
    "\n",
    "# Display duplicated rows\n",
    "print(duplicated_rows)"
   ]
  }
 ],
 "metadata": {
  "kernelspec": {
   "display_name": "Python 3",
   "language": "python",
   "name": "python3"
  },
  "language_info": {
   "codemirror_mode": {
    "name": "ipython",
    "version": 3
   },
   "file_extension": ".py",
   "mimetype": "text/x-python",
   "name": "python",
   "nbconvert_exporter": "python",
   "pygments_lexer": "ipython3",
   "version": "3.11.9"
  }
 },
 "nbformat": 4,
 "nbformat_minor": 2
}
