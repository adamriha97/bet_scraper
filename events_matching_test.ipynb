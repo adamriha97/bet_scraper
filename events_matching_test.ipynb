{
 "cells": [
  {
   "cell_type": "code",
   "execution_count": 29,
   "metadata": {},
   "outputs": [
    {
     "name": "stdout",
     "output_type": "stream",
     "text": [
      "Empty DataFrame\n",
      "Columns: [bookmaker_id, bookmaker_name, sport_name, sport_name_original, event_url, event_startTime, participant_home, participant_away, bet_1, bet_0, bet_2, bet_10, bet_02, bet_12, bet_11, bet_22]\n",
      "Index: []\n"
     ]
    }
   ],
   "source": [
    "import json\n",
    "import pandas as pd\n",
    "\n",
    "\n",
    "def load_dataframe(table_name):\n",
    "    global dataframes\n",
    "    with open(f'data/{table_name}.json', 'r') as file:\n",
    "        data = json.load(file)\n",
    "    df = pd.DataFrame(data)\n",
    "    dataframes.append(df)\n",
    "\n",
    "dataframes = []\n",
    "table_names = ['data_betano', 'data_fortuna', 'data_tipsport', 'data_sazka', 'data_merkur', 'data_betx', 'data_forbet', 'data_kingsbet', 'data_synottip']\n",
    "for table_name in table_names:\n",
    "    load_dataframe(table_name)\n",
    "\n",
    "df = pd.concat(dataframes, axis=0)\n",
    "df.reset_index(drop=True, inplace=True)\n",
    "\n",
    "print(df[df['sport_name'] == 'other'])"
   ]
  },
  {
   "cell_type": "code",
   "execution_count": 30,
   "metadata": {},
   "outputs": [
    {
     "name": "stdout",
     "output_type": "stream",
     "text": [
      "Empty DataFrame\n",
      "Columns: [bookmaker_name, sport_name_original]\n",
      "Index: []\n"
     ]
    }
   ],
   "source": [
    "print(df[df['sport_name'] == 'other'][['bookmaker_name', 'sport_name_original']].drop_duplicates())"
   ]
  },
  {
   "cell_type": "code",
   "execution_count": 31,
   "metadata": {},
   "outputs": [
    {
     "name": "stdout",
     "output_type": "stream",
     "text": [
      "     bookmaker_id bookmaker_name  sport_name sport_name_original  \\\n",
      "2942           SA          sazka  vodni-polo          Water Polo   \n",
      "2943           SA          sazka  vodni-polo          Water Polo   \n",
      "2944           SA          sazka  vodni-polo          Water Polo   \n",
      "2945           SA          sazka  vodni-polo          Water Polo   \n",
      "2946           SA          sazka  vodni-polo          Water Polo   \n",
      "2947           SA          sazka  vodni-polo          Water Polo   \n",
      "2948           SA          sazka  vodni-polo          Water Polo   \n",
      "5549           BX           betx  vodni-polo           Waterpolo   \n",
      "5550           BX           betx  vodni-polo           Waterpolo   \n",
      "5551           BX           betx  vodni-polo           Waterpolo   \n",
      "5552           BX           betx  vodni-polo           Waterpolo   \n",
      "5553           BX           betx  vodni-polo           Waterpolo   \n",
      "5554           BX           betx  vodni-polo           Waterpolo   \n",
      "5555           BX           betx  vodni-polo           Waterpolo   \n",
      "6540           FB         forbet  vodni-polo          Vodní pólo   \n",
      "6541           FB         forbet  vodni-polo          Vodní pólo   \n",
      "6542           FB         forbet  vodni-polo          Vodní pólo   \n",
      "6543           FB         forbet  vodni-polo          Vodní pólo   \n",
      "6544           FB         forbet  vodni-polo          Vodní pólo   \n",
      "6545           FB         forbet  vodni-polo          Vodní pólo   \n",
      "6546           FB         forbet  vodni-polo          Vodní pólo   \n",
      "6759           KB       kingsbet  vodni-polo          Vodní pólo   \n",
      "6760           KB       kingsbet  vodni-polo          Vodní pólo   \n",
      "6761           KB       kingsbet  vodni-polo          Vodní pólo   \n",
      "6762           KB       kingsbet  vodni-polo          Vodní pólo   \n",
      "6763           KB       kingsbet  vodni-polo          Vodní pólo   \n",
      "6764           KB       kingsbet  vodni-polo          Vodní pólo   \n",
      "8145           ST       synottip  vodni-polo          Vodní pólo   \n",
      "8146           ST       synottip  vodni-polo          Vodní pólo   \n",
      "8147           ST       synottip  vodni-polo          Vodní pólo   \n",
      "\n",
      "                                              event_url      event_startTime  \\\n",
      "2942  https://www.sazka.cz/kurzove-sazky/sports/even...  2024-10-08 18:15:00   \n",
      "2943  https://www.sazka.cz/kurzove-sazky/sports/even...  2024-10-08 20:00:00   \n",
      "2944  https://www.sazka.cz/kurzove-sazky/sports/even...  2024-10-08 20:00:00   \n",
      "2945  https://www.sazka.cz/kurzove-sazky/sports/even...  2024-10-09 17:15:00   \n",
      "2946  https://www.sazka.cz/kurzove-sazky/sports/even...  2024-10-09 18:15:00   \n",
      "2947  https://www.sazka.cz/kurzove-sazky/sports/even...  2024-10-09 20:00:00   \n",
      "2948  https://www.sazka.cz/kurzove-sazky/sports/even...  2024-10-09 20:00:00   \n",
      "5549  https://bet-x.cz/cs/sports-betting/offer/water...  2024-10-09 18:15:00   \n",
      "5550  https://bet-x.cz/cs/sports-betting/offer/water...  2024-10-09 20:00:00   \n",
      "5551  https://bet-x.cz/cs/sports-betting/offer/water...  2024-10-09 17:15:00   \n",
      "5552  https://bet-x.cz/cs/sports-betting/offer/water...  2024-10-09 20:00:00   \n",
      "5553  https://bet-x.cz/cs/sports-betting/offer/water...  2024-10-08 18:15:00   \n",
      "5554  https://bet-x.cz/cs/sports-betting/offer/water...  2024-10-08 20:00:00   \n",
      "5555  https://bet-x.cz/cs/sports-betting/offer/water...  2024-10-08 20:00:00   \n",
      "6540   https://www.iforbet.cz/prematch/event/MA53660115  2024-10-08 18:15:00   \n",
      "6541   https://www.iforbet.cz/prematch/event/MA53660117  2024-10-08 20:00:00   \n",
      "6542   https://www.iforbet.cz/prematch/event/MA53660225  2024-10-08 20:00:00   \n",
      "6543   https://www.iforbet.cz/prematch/event/MA53660247  2024-10-09 18:15:00   \n",
      "6544   https://www.iforbet.cz/prematch/event/MA53660249  2024-10-09 20:00:00   \n",
      "6545   https://www.iforbet.cz/prematch/event/MA53660271  2024-10-09 17:15:00   \n",
      "6546   https://www.iforbet.cz/prematch/event/MA53660273  2024-10-09 20:00:00   \n",
      "6759  https://www.kingsbet.cz/sport?page=event&event...  2024-10-08 18:15:00   \n",
      "6760  https://www.kingsbet.cz/sport?page=event&event...  2024-10-08 20:00:00   \n",
      "6761  https://www.kingsbet.cz/sport?page=event&event...  2024-10-08 20:00:00   \n",
      "6762  https://www.kingsbet.cz/sport?page=event&event...  2024-10-09 18:15:00   \n",
      "6763  https://www.kingsbet.cz/sport?page=event&event...  2024-10-09 20:00:00   \n",
      "6764  https://www.kingsbet.cz/sport?page=event&event...  2024-10-09 20:00:00   \n",
      "8145  https://sport.synottip.cz/zapasy/48/2342003cxx...  2024-10-08 18:15:00   \n",
      "8146  https://sport.synottip.cz/zapasy/48/2342013cxx...  2024-10-08 20:00:00   \n",
      "8147  https://sport.synottip.cz/zapasy/48/2342014cxx...  2024-10-08 20:00:00   \n",
      "\n",
      "        participant_home        participant_away   bet_1  bet_0    bet_2  \\\n",
      "2942    VK Novi Belgrade                  Steaua  1.1200  10.00   8.5000   \n",
      "2943     VK Jadran Split  VK Radnicki Kragujevac  1.5400   6.25   3.2500   \n",
      "2944      Waspo Hannover              CSM Oradea  1.3300   6.75   4.7500   \n",
      "2945  Olympiakos Piraeus       VK Primorac Kotor -1.0000  19.00  19.0000   \n",
      "2946      CN Barceloneta                Vasas SC  1.0600  12.00  12.0000   \n",
      "2947        CN Marseille       Pvk Jadran Carine  1.3600   6.75   4.2500   \n",
      "2948           RN Savona             CN Sabadell  1.9500   5.75   2.3500   \n",
      "5549      CN Barceloneta                Vasas SC  1.0600  13.00  12.0000   \n",
      "5550        CN Marseille       PVK Jadran Carine  1.3600   7.60   4.3000   \n",
      "5551          Olympiakos       VK Primorac Kotor  1.0100  17.00  19.0000   \n",
      "5552           RN Savona             Cn Sabadell  1.9400   6.40   2.3300   \n",
      "5553    Vk Novi Belgrade        Steaua Bucharest  1.1100  11.00   8.8000   \n",
      "5554      Waspo Hannover              CSM Oradea  1.3200   7.60   4.8000   \n",
      "5555     VK Jadran Split     Radnicki Kragujevac  1.5200   7.00   3.3000   \n",
      "6540       Novi Belgrade               Steaua B.  1.1100  11.00   8.8000   \n",
      "6541            Hannover                  Oradea  1.3200   7.60   4.8000   \n",
      "6542        Jadran Split             Radnicki K.  1.5200   7.00   3.3000   \n",
      "6543      CN Barceloneta                Vasas SC  1.0600  13.00  12.0000   \n",
      "6544           Marseille               Jadran HN  1.3600   7.60   4.3000   \n",
      "6545          Olympiakos                Primorac  1.0100  17.00  19.0000   \n",
      "6546              Savona                Sabadell  1.9400   6.40   2.3300   \n",
      "6759    Vk Novi Belgrade        Steaua Bucharest  1.1112  12.00   8.5000   \n",
      "6760     VK Jadran Split  VK Radnički Kragujevac  1.5200   7.00   3.3334   \n",
      "6761      Waspo Hannover              CSM Oradea  1.3200   7.50   4.7500   \n",
      "6762     CNA Barceloneta                Vasas SC  1.0589  14.00  12.0000   \n",
      "6763        CN Marseille  Pvk Jadran Herceg Novi  1.3500   8.00   4.2500   \n",
      "6764           RN Savona             Cn Sabadell  1.9334   6.50   2.3334   \n",
      "8145    VK Novi Bělehrad         Steaua Bukurešť  1.1100  10.62   8.2100   \n",
      "8146     VK Jadran Split  VK Radnički Kragujevac  1.5100   6.83   3.2300   \n",
      "8147      Waspo Hannover              CSM Oradea  1.3100   7.25   4.6000   \n",
      "\n",
      "      bet_10  bet_02  bet_12  bet_11  bet_22  \n",
      "2942   -1.00   -1.00   -1.00    -1.0    -1.0  \n",
      "2943   -1.00   -1.00   -1.00    -1.0    -1.0  \n",
      "2944   -1.00   -1.00   -1.00    -1.0    -1.0  \n",
      "2945   -1.00   -1.00   -1.00    -1.0    -1.0  \n",
      "2946   -1.00   -1.00   -1.00    -1.0    -1.0  \n",
      "2947   -1.00   -1.00   -1.00    -1.0    -1.0  \n",
      "2948   -1.00   -1.00   -1.00    -1.0    -1.0  \n",
      "5549    0.00    0.00    0.00    -1.0    -1.0  \n",
      "5550    0.00    0.00    0.00    -1.0    -1.0  \n",
      "5551    0.00    0.00    0.00    -1.0    -1.0  \n",
      "5552    0.00    0.00    0.00    -1.0    -1.0  \n",
      "5553    0.00    0.00    0.00    -1.0    -1.0  \n",
      "5554    0.00    0.00    0.00    -1.0    -1.0  \n",
      "5555    0.00    0.00    0.00    -1.0    -1.0  \n",
      "6540    1.01    4.90    0.00    -1.0    -1.0  \n",
      "6541    1.12    2.94    1.04    -1.0    -1.0  \n",
      "6542    1.25    2.24    1.04    -1.0    -1.0  \n",
      "6543    0.00    6.20    0.00    -1.0    -1.0  \n",
      "6544    1.15    2.75    1.03    -1.0    -1.0  \n",
      "6545    0.00    9.00    0.00    -1.0    -1.0  \n",
      "6546    1.49    1.71    1.06    -1.0    -1.0  \n",
      "6759   -1.00   -1.00   -1.00    -1.0    -1.0  \n",
      "6760   -1.00   -1.00   -1.00    -1.0    -1.0  \n",
      "6761   -1.00   -1.00   -1.00    -1.0    -1.0  \n",
      "6762   -1.00   -1.00   -1.00    -1.0    -1.0  \n",
      "6763   -1.00   -1.00   -1.00    -1.0    -1.0  \n",
      "6764   -1.00   -1.00   -1.00    -1.0    -1.0  \n",
      "8145   -1.00   -1.00   -1.00    -1.0    -1.0  \n",
      "8146   -1.00   -1.00   -1.00    -1.0    -1.0  \n",
      "8147   -1.00   -1.00   -1.00    -1.0    -1.0  \n"
     ]
    }
   ],
   "source": [
    "print(df[df['sport_name'] == 'vodni-polo'])"
   ]
  },
  {
   "cell_type": "code",
   "execution_count": 32,
   "metadata": {},
   "outputs": [
    {
     "name": "stdout",
     "output_type": "stream",
     "text": [
      "Empty DataFrame\n",
      "Columns: [bookmaker_id, bookmaker_name, sport_name, sport_name_original, event_url, event_startTime, participant_home, participant_away, bet_1, bet_0, bet_2, bet_10, bet_02, bet_12, bet_11, bet_22]\n",
      "Index: []\n"
     ]
    }
   ],
   "source": [
    "# Find duplicated rows (considering all columns)\n",
    "duplicated_rows = df[df.duplicated(keep=False)]\n",
    "\n",
    "# Display duplicated rows\n",
    "print(duplicated_rows)"
   ]
  }
 ],
 "metadata": {
  "kernelspec": {
   "display_name": "Python 3",
   "language": "python",
   "name": "python3"
  },
  "language_info": {
   "codemirror_mode": {
    "name": "ipython",
    "version": 3
   },
   "file_extension": ".py",
   "mimetype": "text/x-python",
   "name": "python",
   "nbconvert_exporter": "python",
   "pygments_lexer": "ipython3",
   "version": "3.11.9"
  }
 },
 "nbformat": 4,
 "nbformat_minor": 2
}
