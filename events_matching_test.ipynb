{
 "cells": [
  {
   "cell_type": "code",
   "execution_count": 5,
   "metadata": {},
   "outputs": [
    {
     "name": "stdout",
     "output_type": "stream",
     "text": [
      "    bookmaker_id bookmaker_name sport_name sport_name_original  \\\n",
      "878           FO        fortuna      other    esport-overwatch   \n",
      "879           FO        fortuna      other    esport-overwatch   \n",
      "880           FO        fortuna      other    esport-overwatch   \n",
      "881           FO        fortuna      other    esport-overwatch   \n",
      "882           FO        fortuna      other    esport-overwatch   \n",
      "958           FO        fortuna      other    esport-overwatch   \n",
      "959           FO        fortuna      other    esport-overwatch   \n",
      "\n",
      "    primary_category_original secondary_category_original  \\\n",
      "878             Faceit League               Faceit League   \n",
      "879             Faceit League               Faceit League   \n",
      "880             Faceit League               Faceit League   \n",
      "881             Faceit League               Faceit League   \n",
      "882             Faceit League               Faceit League   \n",
      "958             Faceit League               Faceit League   \n",
      "959             Faceit League               Faceit League   \n",
      "\n",
      "         event_startTime participant_home participant_away  \\\n",
      "878  2024-10-11 03:00:00             NTMR    Fluffy Aimers   \n",
      "879  2024-10-11 03:00:00    Citrus Nation        O3 Splash   \n",
      "880  2024-10-11 03:00:00        Shikigami       Absolution   \n",
      "881  2024-10-11 03:00:00   Ramattra Punch           Team Z   \n",
      "882  2024-10-11 03:00:00       Yfp Gaming   Tanuki eSports   \n",
      "958  2024-10-12 00:00:00           Team Z    Citrus Nation   \n",
      "959  2024-10-13 03:00:00       Yfp Gaming   Ramattra Punch   \n",
      "\n",
      "    participants_gender participants_age  bet_1  bet_0  bet_2  bet_10  bet_02  \\\n",
      "878                                        -1.0   -1.0   -1.0    -1.0    -1.0   \n",
      "879                                        -1.0   -1.0   -1.0    -1.0    -1.0   \n",
      "880                                        -1.0   -1.0   -1.0    -1.0    -1.0   \n",
      "881                                        -1.0   -1.0   -1.0    -1.0    -1.0   \n",
      "882                                        -1.0   -1.0   -1.0    -1.0    -1.0   \n",
      "958                                        -1.0   -1.0   -1.0    -1.0    -1.0   \n",
      "959                                        -1.0   -1.0   -1.0    -1.0    -1.0   \n",
      "\n",
      "     bet_12  bet_11  bet_22                                          event_url  \n",
      "878    -1.0    1.31    3.10  https://www.ifortuna.cz/sazeni/esport-overwatc...  \n",
      "879    -1.0    1.12    5.20  https://www.ifortuna.cz/sazeni/esport-overwatc...  \n",
      "880    -1.0    1.02    9.40  https://www.ifortuna.cz/sazeni/esport-overwatc...  \n",
      "881    -1.0    1.65    2.07  https://www.ifortuna.cz/sazeni/esport-overwatc...  \n",
      "882    -1.0    1.19    4.00  https://www.ifortuna.cz/sazeni/esport-overwatc...  \n",
      "958    -1.0    5.80    1.09  https://www.ifortuna.cz/sazeni/esport-overwatc...  \n",
      "959    -1.0    2.55    1.43  https://www.ifortuna.cz/sazeni/esport-overwatc...  \n"
     ]
    }
   ],
   "source": [
    "import json\n",
    "import pandas as pd\n",
    "\n",
    "\n",
    "def load_dataframe(table_name):\n",
    "    global dataframes\n",
    "    with open(f'data/{table_name}.json', 'r') as file:\n",
    "        data = json.load(file)\n",
    "    df = pd.DataFrame(data)\n",
    "    dataframes.append(df)\n",
    "\n",
    "dataframes = []\n",
    "table_names = ['data_betano', 'data_fortuna', 'data_tipsport', 'data_sazka', 'data_merkur', 'data_betx', 'data_forbet', 'data_kingsbet', 'data_synottip']\n",
    "for table_name in table_names:\n",
    "    load_dataframe(table_name)\n",
    "\n",
    "df = pd.concat(dataframes, axis=0)\n",
    "df.reset_index(drop=True, inplace=True)\n",
    "\n",
    "print(df[df['sport_name'] == 'other'])"
   ]
  },
  {
   "cell_type": "code",
   "execution_count": 6,
   "metadata": {},
   "outputs": [
    {
     "name": "stdout",
     "output_type": "stream",
     "text": [
      "    bookmaker_name sport_name_original\n",
      "878        fortuna    esport-overwatch\n"
     ]
    }
   ],
   "source": [
    "print(df[df['sport_name'] == 'other'][['bookmaker_name', 'sport_name_original']].drop_duplicates())"
   ]
  },
  {
   "cell_type": "code",
   "execution_count": 8,
   "metadata": {},
   "outputs": [
    {
     "name": "stdout",
     "output_type": "stream",
     "text": [
      "Empty DataFrame\n",
      "Columns: [bookmaker_id, bookmaker_name, sport_name, sport_name_original, primary_category_original, secondary_category_original, event_startTime, participant_home, participant_away, participants_gender, participants_age, bet_1, bet_0, bet_2, bet_10, bet_02, bet_12, bet_11, bet_22, event_url]\n",
      "Index: []\n"
     ]
    }
   ],
   "source": [
    "print(df[df['sport_name'] == 'vodni-polo'])"
   ]
  },
  {
   "cell_type": "code",
   "execution_count": 9,
   "metadata": {},
   "outputs": [
    {
     "name": "stdout",
     "output_type": "stream",
     "text": [
      "Empty DataFrame\n",
      "Columns: [bookmaker_id, bookmaker_name, sport_name, sport_name_original, primary_category_original, secondary_category_original, event_startTime, participant_home, participant_away, participants_gender, participants_age, bet_1, bet_0, bet_2, bet_10, bet_02, bet_12, bet_11, bet_22, event_url]\n",
      "Index: []\n"
     ]
    }
   ],
   "source": [
    "# Find duplicated rows (considering all columns)\n",
    "duplicated_rows = df[df.duplicated(keep=False)]\n",
    "\n",
    "# Display duplicated rows\n",
    "print(duplicated_rows)"
   ]
  }
 ],
 "metadata": {
  "kernelspec": {
   "display_name": "Python 3",
   "language": "python",
   "name": "python3"
  },
  "language_info": {
   "codemirror_mode": {
    "name": "ipython",
    "version": 3
   },
   "file_extension": ".py",
   "mimetype": "text/x-python",
   "name": "python",
   "nbconvert_exporter": "python",
   "pygments_lexer": "ipython3",
   "version": "3.11.9"
  }
 },
 "nbformat": 4,
 "nbformat_minor": 2
}
