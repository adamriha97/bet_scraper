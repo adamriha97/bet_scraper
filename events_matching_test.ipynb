{
 "cells": [
  {
   "cell_type": "code",
   "execution_count": 5,
   "metadata": {},
   "outputs": [
    {
     "name": "stdout",
     "output_type": "stream",
     "text": [
      "Empty DataFrame\n",
      "Columns: [bookmaker_id, bookmaker_name, sport_name, sport_name_original, primary_category_original, secondary_category_original, event_startTime, participant_home, participant_away, participants_gender, participants_age, bet_1, bet_0, bet_2, bet_10, bet_02, bet_12, bet_11, bet_22, event_url]\n",
      "Index: []\n"
     ]
    }
   ],
   "source": [
    "import json\n",
    "import pandas as pd\n",
    "\n",
    "\n",
    "def load_dataframe(table_name):\n",
    "    global dataframes\n",
    "    with open(f'data/{table_name}.json', 'r') as file:\n",
    "        data = json.load(file)\n",
    "    df = pd.DataFrame(data)\n",
    "    dataframes.append(df)\n",
    "\n",
    "dataframes = []\n",
    "table_names = ['data_betano', 'data_fortuna', 'data_tipsport', 'data_sazka', 'data_merkur', 'data_betx', 'data_forbet', 'data_kingsbet', 'data_synottip']\n",
    "for table_name in table_names:\n",
    "    load_dataframe(table_name)\n",
    "\n",
    "df = pd.concat(dataframes, axis=0)\n",
    "df.reset_index(drop=True, inplace=True)\n",
    "\n",
    "print(df[df['sport_name'] == 'other'])"
   ]
  },
  {
   "cell_type": "code",
   "execution_count": 6,
   "metadata": {},
   "outputs": [
    {
     "name": "stdout",
     "output_type": "stream",
     "text": [
      "Empty DataFrame\n",
      "Columns: [bookmaker_name, sport_name_original]\n",
      "Index: []\n"
     ]
    }
   ],
   "source": [
    "print(df[df['sport_name'] == 'other'][['bookmaker_name', 'sport_name_original']].drop_duplicates())"
   ]
  },
  {
   "cell_type": "code",
   "execution_count": 7,
   "metadata": {},
   "outputs": [
    {
     "name": "stdout",
     "output_type": "stream",
     "text": [
      "      bookmaker_id bookmaker_name  sport_name sport_name_original  \\\n",
      "44              BE         betano  vodni-polo          vodni-polo   \n",
      "45              BE         betano  vodni-polo          vodni-polo   \n",
      "46              BE         betano  vodni-polo          vodni-polo   \n",
      "47              BE         betano  vodni-polo          vodni-polo   \n",
      "48              BE         betano  vodni-polo          vodni-polo   \n",
      "...            ...            ...         ...                 ...   \n",
      "19502           ST       synottip  vodni-polo          Vodní pólo   \n",
      "19503           ST       synottip  vodni-polo          Vodní pólo   \n",
      "19504           ST       synottip  vodni-polo          Vodní pólo   \n",
      "19505           ST       synottip  vodni-polo          Vodní pólo   \n",
      "19506           ST       synottip  vodni-polo          Vodní pólo   \n",
      "\n",
      "      primary_category_original secondary_category_original  \\\n",
      "44                       Evropa     Adriatic Premier League   \n",
      "45                       Evropa     Adriatic Premier League   \n",
      "46                       Evropa     Adriatic Premier League   \n",
      "47                       Evropa     Adriatic Premier League   \n",
      "48                       Itálie                          A1   \n",
      "...                         ...                         ...   \n",
      "19502                    Itálie                    Serie A1   \n",
      "19503                    Itálie                    Serie A1   \n",
      "19504                  Maďarsko                        OB I   \n",
      "19505                  Maďarsko                        OB I   \n",
      "19506                  Maďarsko                        OB I   \n",
      "\n",
      "           event_startTime    participant_home participant_away  \\\n",
      "44     2024-10-19 17:45:00        Jadran Split    Jug Dubrovnik   \n",
      "45     2024-10-19 18:00:00      Mladost Zagreb   VK Primorje EB   \n",
      "46     2024-10-19 19:00:00               Valis    Crvena Zvezda   \n",
      "47     2024-10-19 19:00:00  VPK Primorac Kotor          Solaris   \n",
      "48     2024-10-19 15:00:00              Savona        Pro Recco   \n",
      "...                    ...                 ...              ...   \n",
      "19502  2024-10-19 18:00:00        RN Florentia    Roma Vis Nova   \n",
      "19503  2024-10-20 15:00:00          CC Ortigia       Nuoto Roma   \n",
      "19504  2024-10-19 16:00:00             Eger VK       Szegedi VE   \n",
      "19505  2024-10-19 19:00:00        PVSK Füszért     OSC Budapešť   \n",
      "19506  2024-10-20 19:00:00         Szentesi VK  Budapešť Honvéd   \n",
      "\n",
      "      participants_gender participants_age  bet_1  bet_0  bet_2  bet_10  \\\n",
      "44                                           1.39   7.30   3.90    -1.0   \n",
      "45                                           1.11  10.75   9.00    -1.0   \n",
      "46                                           8.25  10.00   1.12    -1.0   \n",
      "47                                           1.15  10.00   8.00    -1.0   \n",
      "48                                           4.00   7.20   1.40    -1.0   \n",
      "...                   ...              ...    ...    ...    ...     ...   \n",
      "19502                                        2.26   6.32   1.97    -1.0   \n",
      "19503                                        1.04  12.52  12.50    -1.0   \n",
      "19504                                        3.55   7.39   1.44    -1.0   \n",
      "19505                                       15.49  15.43   1.02    -1.0   \n",
      "19506                                        2.69   6.16   1.71    -1.0   \n",
      "\n",
      "       bet_02  bet_12  bet_11  bet_22  \\\n",
      "44       -1.0    -1.0    -1.0    -1.0   \n",
      "45       -1.0    -1.0    -1.0    -1.0   \n",
      "46       -1.0    -1.0    -1.0    -1.0   \n",
      "47       -1.0    -1.0    -1.0    -1.0   \n",
      "48       -1.0    -1.0    -1.0    -1.0   \n",
      "...       ...     ...     ...     ...   \n",
      "19502    -1.0    -1.0    -1.0    -1.0   \n",
      "19503    -1.0    -1.0    -1.0    -1.0   \n",
      "19504    -1.0    -1.0    -1.0    -1.0   \n",
      "19505    -1.0    -1.0    -1.0    -1.0   \n",
      "19506    -1.0    -1.0    -1.0    -1.0   \n",
      "\n",
      "                                               event_url  \n",
      "44     https://www.betano.cz/zapas-sance/jadran-split...  \n",
      "45     https://www.betano.cz/zapas-sance/mladost-zagr...  \n",
      "46     https://www.betano.cz/zapas-sance/valis-crvena...  \n",
      "47     https://www.betano.cz/zapas-sance/vpk-primorac...  \n",
      "48     https://www.betano.cz/zapas-sance/savona-pro-r...  \n",
      "...                                                  ...  \n",
      "19502  https://sport.synottip.cz/zapasy/48/2363737cxx...  \n",
      "19503  https://sport.synottip.cz/zapasy/48/2364387cxx...  \n",
      "19504  https://sport.synottip.cz/zapasy/48/2363528cxx...  \n",
      "19505  https://sport.synottip.cz/zapasy/48/2362824cxx...  \n",
      "19506  https://sport.synottip.cz/zapasy/48/2364980cxx...  \n",
      "\n",
      "[117 rows x 20 columns]\n"
     ]
    }
   ],
   "source": [
    "print(df[df['sport_name'] == 'vodni-polo'])"
   ]
  },
  {
   "cell_type": "code",
   "execution_count": 8,
   "metadata": {},
   "outputs": [
    {
     "name": "stdout",
     "output_type": "stream",
     "text": [
      "Empty DataFrame\n",
      "Columns: [bookmaker_id, bookmaker_name, sport_name, sport_name_original, primary_category_original, secondary_category_original, event_startTime, participant_home, participant_away, participants_gender, participants_age, bet_1, bet_0, bet_2, bet_10, bet_02, bet_12, bet_11, bet_22, event_url]\n",
      "Index: []\n"
     ]
    }
   ],
   "source": [
    "# Find duplicated rows (considering all columns)\n",
    "duplicated_rows = df[df.duplicated(keep=False)]\n",
    "\n",
    "# Display duplicated rows\n",
    "print(duplicated_rows)"
   ]
  }
 ],
 "metadata": {
  "kernelspec": {
   "display_name": "Python 3",
   "language": "python",
   "name": "python3"
  },
  "language_info": {
   "codemirror_mode": {
    "name": "ipython",
    "version": 3
   },
   "file_extension": ".py",
   "mimetype": "text/x-python",
   "name": "python",
   "nbconvert_exporter": "python",
   "pygments_lexer": "ipython3",
   "version": "3.11.9"
  }
 },
 "nbformat": 4,
 "nbformat_minor": 2
}
