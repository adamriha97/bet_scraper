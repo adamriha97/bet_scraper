{
 "cells": [
  {
   "cell_type": "code",
   "execution_count": 1,
   "metadata": {},
   "outputs": [],
   "source": [
    "import pandas as pd\n",
    "import json\n",
    "import os"
   ]
  },
  {
   "cell_type": "code",
   "execution_count": null,
   "metadata": {},
   "outputs": [
    {
     "name": "stdout",
     "output_type": "stream",
     "text": [
      "{'fotbal': {'vysledek-zapasu': {'names': {'betano': [''], 'betx': [''], 'forbet': [''], 'fortuna': [''], 'kingsbet': [''], 'merkur': [''], 'sazka': [''], 'synottip': [''], 'tipsport': ['']}, 'groups': {'-': {'1': {'betano': [''], 'betx': [''], 'forbet': [''], 'fortuna': [''], 'kingsbet': [''], 'merkur': [''], 'sazka': [''], 'synottip': [''], 'tipsport': ['']}, '0': {'betano': [''], 'betx': [''], 'forbet': [''], 'fortuna': [''], 'kingsbet': [''], 'merkur': [''], 'sazka': [''], 'synottip': [''], 'tipsport': ['']}, '2': {'betano': [''], 'betx': [''], 'forbet': [''], 'fortuna': [''], 'kingsbet': [''], 'merkur': [''], 'sazka': [''], 'synottip': [''], 'tipsport': ['']}}}}, 'vysledek-prvniho-polocasu': {'names': {'betano': [''], 'betx': [''], 'forbet': [''], 'fortuna': [''], 'kingsbet': [''], 'merkur': [''], 'sazka': [''], 'synottip': [''], 'tipsport': ['']}, 'groups': {'-': {'1': {'betano': [''], 'betx': [''], 'forbet': [''], 'fortuna': [''], 'kingsbet': [''], 'merkur': [''], 'sazka': [''], 'synottip': [''], 'tipsport': ['']}, '0': {'betano': [''], 'betx': [''], 'forbet': [''], 'fortuna': [''], 'kingsbet': [''], 'merkur': [''], 'sazka': [''], 'synottip': [''], 'tipsport': ['']}, '2': {'betano': [''], 'betx': [''], 'forbet': [''], 'fortuna': [''], 'kingsbet': [''], 'merkur': [''], 'sazka': [''], 'synottip': [''], 'tipsport': ['']}}}}, 'vysledek-druheho-polocasu': {'names': {'betano': [''], 'betx': [''], 'forbet': [''], 'fortuna': [''], 'kingsbet': [''], 'merkur': [''], 'sazka': [''], 'synottip': [''], 'tipsport': ['']}, 'groups': {'-': {'1': {'betano': [''], 'betx': [''], 'forbet': [''], 'fortuna': [''], 'kingsbet': [''], 'merkur': [''], 'sazka': [''], 'synottip': [''], 'tipsport': ['']}, '0': {'betano': [''], 'betx': [''], 'forbet': [''], 'fortuna': [''], 'kingsbet': [''], 'merkur': [''], 'sazka': [''], 'synottip': [''], 'tipsport': ['']}, '2': {'betano': [''], 'betx': [''], 'forbet': [''], 'fortuna': [''], 'kingsbet': [''], 'merkur': [''], 'sazka': [''], 'synottip': [''], 'tipsport': ['']}}}}, 'vitez-bez-remizy': {'names': {'betano': [''], 'betx': [''], 'forbet': [''], 'fortuna': [''], 'kingsbet': [''], 'merkur': [''], 'sazka': [''], 'synottip': [''], 'tipsport': ['']}, 'groups': {'-': {'1': {'betano': [''], 'betx': [''], 'forbet': [''], 'fortuna': [''], 'kingsbet': [''], 'merkur': [''], 'sazka': [''], 'synottip': [''], 'tipsport': ['']}, '2': {'betano': [''], 'betx': [''], 'forbet': [''], 'fortuna': [''], 'kingsbet': [''], 'merkur': [''], 'sazka': [''], 'synottip': [''], 'tipsport': ['']}}}}, 'vitez-prvniho-polocasu-bez-remizy': {'names': {'betano': [''], 'betx': [''], 'forbet': [''], 'fortuna': [''], 'kingsbet': [''], 'merkur': [''], 'sazka': [''], 'synottip': [''], 'tipsport': ['']}, 'groups': {'-': {'1': {'betano': [''], 'betx': [''], 'forbet': [''], 'fortuna': [''], 'kingsbet': [''], 'merkur': [''], 'sazka': [''], 'synottip': [''], 'tipsport': ['']}, '2': {'betano': [''], 'betx': [''], 'forbet': [''], 'fortuna': [''], 'kingsbet': [''], 'merkur': [''], 'sazka': [''], 'synottip': [''], 'tipsport': ['']}}}}, 'vitez-druheho-polocasu-bez-remizy': {'names': {'betano': [''], 'betx': [''], 'forbet': [''], 'fortuna': [''], 'kingsbet': [''], 'merkur': [''], 'sazka': [''], 'synottip': [''], 'tipsport': ['']}, 'groups': {'-': {'1': {'betano': [''], 'betx': [''], 'forbet': [''], 'fortuna': [''], 'kingsbet': [''], 'merkur': [''], 'sazka': [''], 'synottip': [''], 'tipsport': ['']}, '2': {'betano': [''], 'betx': [''], 'forbet': [''], 'fortuna': [''], 'kingsbet': [''], 'merkur': [''], 'sazka': [''], 'synottip': [''], 'tipsport': ['']}}}}, 'prvni-gol': {'names': {'betano': [''], 'betx': [''], 'forbet': [''], 'fortuna': [''], 'kingsbet': [''], 'merkur': [''], 'sazka': [''], 'synottip': [''], 'tipsport': ['']}, 'groups': {'-': {'1': {'betano': [''], 'betx': [''], 'forbet': [''], 'fortuna': [''], 'kingsbet': [''], 'merkur': [''], 'sazka': [''], 'synottip': [''], 'tipsport': ['']}, '0': {'betano': [''], 'betx': [''], 'forbet': [''], 'fortuna': [''], 'kingsbet': [''], 'merkur': [''], 'sazka': [''], 'synottip': [''], 'tipsport': ['']}, '2': {'betano': [''], 'betx': [''], 'forbet': [''], 'fortuna': [''], 'kingsbet': [''], 'merkur': [''], 'sazka': [''], 'synottip': [''], 'tipsport': ['']}}}}, 'oba-tymy-skoruji': {'names': {'betano': [''], 'betx': [''], 'forbet': [''], 'fortuna': [''], 'kingsbet': [''], 'merkur': [''], 'sazka': [''], 'synottip': [''], 'tipsport': ['']}, 'groups': {'-': {'ano': {'betano': [''], 'betx': [''], 'forbet': [''], 'fortuna': [''], 'kingsbet': [''], 'merkur': [''], 'sazka': [''], 'synottip': [''], 'tipsport': ['']}, 'ne': {'betano': [''], 'betx': [''], 'forbet': [''], 'fortuna': [''], 'kingsbet': [''], 'merkur': [''], 'sazka': [''], 'synottip': [''], 'tipsport': ['']}}}}, 'oba-tymy-skoruji-v-prvnim-polocasu': {'names': {'betano': [''], 'betx': [''], 'forbet': [''], 'fortuna': [''], 'kingsbet': [''], 'merkur': [''], 'sazka': [''], 'synottip': [''], 'tipsport': ['']}, 'groups': {'-': {'ano': {'betano': [''], 'betx': [''], 'forbet': [''], 'fortuna': [''], 'kingsbet': [''], 'merkur': [''], 'sazka': [''], 'synottip': [''], 'tipsport': ['']}, 'ne': {'betano': [''], 'betx': [''], 'forbet': [''], 'fortuna': [''], 'kingsbet': [''], 'merkur': [''], 'sazka': [''], 'synottip': [''], 'tipsport': ['']}}}}, 'oba-tymy-skoruji-ve-druhem-polocasu': {'names': {'betano': [''], 'betx': [''], 'forbet': [''], 'fortuna': [''], 'kingsbet': [''], 'merkur': [''], 'sazka': [''], 'synottip': [''], 'tipsport': ['']}, 'groups': {'-': {'ano': {'betano': [''], 'betx': [''], 'forbet': [''], 'fortuna': [''], 'kingsbet': [''], 'merkur': [''], 'sazka': [''], 'synottip': [''], 'tipsport': ['']}, 'ne': {'betano': [''], 'betx': [''], 'forbet': [''], 'fortuna': [''], 'kingsbet': [''], 'merkur': [''], 'sazka': [''], 'synottip': [''], 'tipsport': ['']}}}}, '1-vyhraje-oba-polocasy': {'names': {'betano': [''], 'betx': [''], 'forbet': [''], 'fortuna': [''], 'kingsbet': [''], 'merkur': [''], 'sazka': [''], 'synottip': [''], 'tipsport': ['']}, 'groups': {'-': {'ano': {'betano': [''], 'betx': [''], 'forbet': [''], 'fortuna': [''], 'kingsbet': [''], 'merkur': [''], 'sazka': [''], 'synottip': [''], 'tipsport': ['']}, 'ne': {'betano': [''], 'betx': [''], 'forbet': [''], 'fortuna': [''], 'kingsbet': [''], 'merkur': [''], 'sazka': [''], 'synottip': [''], 'tipsport': ['']}}}}, '2-vyhraje-oba-polocasy': {'names': {'betano': [''], 'betx': [''], 'forbet': [''], 'fortuna': [''], 'kingsbet': [''], 'merkur': [''], 'sazka': [''], 'synottip': [''], 'tipsport': ['']}, 'groups': {'-': {'ano': {'betano': [''], 'betx': [''], 'forbet': [''], 'fortuna': [''], 'kingsbet': [''], 'merkur': [''], 'sazka': [''], 'synottip': [''], 'tipsport': ['']}, 'ne': {'betano': [''], 'betx': [''], 'forbet': [''], 'fortuna': [''], 'kingsbet': [''], 'merkur': [''], 'sazka': [''], 'synottip': [''], 'tipsport': ['']}}}}, 'narizena-penalta': {'names': {'betano': [''], 'betx': [''], 'forbet': [''], 'fortuna': [''], 'kingsbet': [''], 'merkur': [''], 'sazka': [''], 'synottip': [''], 'tipsport': ['']}, 'groups': {'-': {'ano': {'betano': [''], 'betx': [''], 'forbet': [''], 'fortuna': [''], 'kingsbet': [''], 'merkur': [''], 'sazka': [''], 'synottip': [''], 'tipsport': ['']}, 'ne': {'betano': [''], 'betx': [''], 'forbet': [''], 'fortuna': [''], 'kingsbet': [''], 'merkur': [''], 'sazka': [''], 'synottip': [''], 'tipsport': ['']}}}}, 'vice-mene-pocet-golu': {'names': {'betano': [''], 'betx': [''], 'forbet': [''], 'fortuna': [''], 'kingsbet': [''], 'merkur': [''], 'sazka': [''], 'synottip': [''], 'tipsport': ['']}, 'groups': {'0,5': {'vice-nez-0,5': {'betano': [''], 'betx': [''], 'forbet': [''], 'fortuna': [''], 'kingsbet': [''], 'merkur': [''], 'sazka': [''], 'synottip': [''], 'tipsport': ['']}, 'mene-nez-0,5': {'betano': [''], 'betx': [''], 'forbet': [''], 'fortuna': [''], 'kingsbet': [''], 'merkur': [''], 'sazka': [''], 'synottip': [''], 'tipsport': ['']}}}}, 'prvni-polocas-vice-mene-pocet-golu': {'names': {'betano': [''], 'betx': [''], 'forbet': [''], 'fortuna': [''], 'kingsbet': [''], 'merkur': [''], 'sazka': [''], 'synottip': [''], 'tipsport': ['']}, 'groups': {'0,5': {'vice-nez-0,5': {'betano': [''], 'betx': [''], 'forbet': [''], 'fortuna': [''], 'kingsbet': [''], 'merkur': [''], 'sazka': [''], 'synottip': [''], 'tipsport': ['']}, 'mene-nez-0,5': {'betano': [''], 'betx': [''], 'forbet': [''], 'fortuna': [''], 'kingsbet': [''], 'merkur': [''], 'sazka': [''], 'synottip': [''], 'tipsport': ['']}}}}, '1-vice-mene-pocet-golu': {'names': {'betano': [''], 'betx': [''], 'forbet': [''], 'fortuna': [''], 'kingsbet': [''], 'merkur': [''], 'sazka': [''], 'synottip': [''], 'tipsport': ['']}, 'groups': {'0,5': {'vice-nez-0,5': {'betano': [''], 'betx': [''], 'forbet': [''], 'fortuna': [''], 'kingsbet': [''], 'merkur': [''], 'sazka': [''], 'synottip': [''], 'tipsport': ['']}, 'mene-nez-0,5': {'betano': [''], 'betx': [''], 'forbet': [''], 'fortuna': [''], 'kingsbet': [''], 'merkur': [''], 'sazka': [''], 'synottip': [''], 'tipsport': ['']}}}}, '2-vice-mene-pocet-golu': {'names': {'betano': [''], 'betx': [''], 'forbet': [''], 'fortuna': [''], 'kingsbet': [''], 'merkur': [''], 'sazka': [''], 'synottip': [''], 'tipsport': ['']}, 'groups': {'0,5': {'vice-nez-0,5': {'betano': [''], 'betx': [''], 'forbet': [''], 'fortuna': [''], 'kingsbet': [''], 'merkur': [''], 'sazka': [''], 'synottip': [''], 'tipsport': ['']}, 'mene-nez-0,5': {'betano': [''], 'betx': [''], 'forbet': [''], 'fortuna': [''], 'kingsbet': [''], 'merkur': [''], 'sazka': [''], 'synottip': [''], 'tipsport': ['']}}}}, 'vice-mene-pocet-rohovych-kopu': {'names': {'betano': [''], 'betx': [''], 'forbet': [''], 'fortuna': [''], 'kingsbet': [''], 'merkur': [''], 'sazka': [''], 'synottip': [''], 'tipsport': ['']}, 'groups': {'7,5': {'vice-nez-7,5': {'betano': [''], 'betx': [''], 'forbet': [''], 'fortuna': [''], 'kingsbet': [''], 'merkur': [''], 'sazka': [''], 'synottip': [''], 'tipsport': ['']}, 'mene-nez-7,5': {'betano': [''], 'betx': [''], 'forbet': [''], 'fortuna': [''], 'kingsbet': [''], 'merkur': [''], 'sazka': [''], 'synottip': [''], 'tipsport': ['']}}}}}, 'tenis': {'vitez': {'names': {'betano': [''], 'betx': [''], 'forbet': [''], 'fortuna': [''], 'kingsbet': [''], 'merkur': [''], 'sazka': [''], 'synottip': [''], 'tipsport': ['']}, 'groups': {'-': {'1': {'betano': [''], 'betx': [''], 'forbet': [''], 'fortuna': [''], 'kingsbet': [''], 'merkur': [''], 'sazka': [''], 'synottip': [''], 'tipsport': ['']}, '2': {'betano': [''], 'betx': [''], 'forbet': [''], 'fortuna': [''], 'kingsbet': [''], 'merkur': [''], 'sazka': [''], 'synottip': [''], 'tipsport': ['']}}}}, 'vitez-prvniho-setu': {'names': {'betano': [''], 'betx': [''], 'forbet': [''], 'fortuna': [''], 'kingsbet': [''], 'merkur': [''], 'sazka': [''], 'synottip': [''], 'tipsport': ['']}, 'groups': {'-': {'1': {'betano': [''], 'betx': [''], 'forbet': [''], 'fortuna': [''], 'kingsbet': [''], 'merkur': [''], 'sazka': [''], 'synottip': [''], 'tipsport': ['']}, '2': {'betano': [''], 'betx': [''], 'forbet': [''], 'fortuna': [''], 'kingsbet': [''], 'merkur': [''], 'sazka': [''], 'synottip': [''], 'tipsport': ['']}}}}, 'vitez-druheho-setu': {'names': {'betano': [''], 'betx': [''], 'forbet': [''], 'fortuna': [''], 'kingsbet': [''], 'merkur': [''], 'sazka': [''], 'synottip': [''], 'tipsport': ['']}, 'groups': {'-': {'1': {'betano': [''], 'betx': [''], 'forbet': [''], 'fortuna': [''], 'kingsbet': [''], 'merkur': [''], 'sazka': [''], 'synottip': [''], 'tipsport': ['']}, '2': {'betano': [''], 'betx': [''], 'forbet': [''], 'fortuna': [''], 'kingsbet': [''], 'merkur': [''], 'sazka': [''], 'synottip': [''], 'tipsport': ['']}}}}, 'oba-vyhraji-set': {'names': {'betano': [''], 'betx': [''], 'forbet': [''], 'fortuna': [''], 'kingsbet': [''], 'merkur': [''], 'sazka': [''], 'synottip': [''], 'tipsport': ['']}, 'groups': {'-': {'Ano': {'betano': [''], 'betx': [''], 'forbet': [''], 'fortuna': [''], 'kingsbet': [''], 'merkur': [''], 'sazka': [''], 'synottip': [''], 'tipsport': ['']}, 'Ne': {'betano': [''], 'betx': [''], 'forbet': [''], 'fortuna': [''], 'kingsbet': [''], 'merkur': [''], 'sazka': [''], 'synottip': [''], 'tipsport': ['']}}}}, '1-vyhraje-set': {'names': {'betano': [''], 'betx': [''], 'forbet': [''], 'fortuna': [''], 'kingsbet': [''], 'merkur': [''], 'sazka': [''], 'synottip': [''], 'tipsport': ['']}, 'groups': {'-': {'Ano': {'betano': [''], 'betx': [''], 'forbet': [''], 'fortuna': [''], 'kingsbet': [''], 'merkur': [''], 'sazka': [''], 'synottip': [''], 'tipsport': ['']}, 'Ne': {'betano': [''], 'betx': [''], 'forbet': [''], 'fortuna': [''], 'kingsbet': [''], 'merkur': [''], 'sazka': [''], 'synottip': [''], 'tipsport': ['']}}}}, '2-vyhraje-set': {'names': {'betano': [''], 'betx': [''], 'forbet': [''], 'fortuna': [''], 'kingsbet': [''], 'merkur': [''], 'sazka': [''], 'synottip': [''], 'tipsport': ['']}, 'groups': {'-': {'Ano': {'betano': [''], 'betx': [''], 'forbet': [''], 'fortuna': [''], 'kingsbet': [''], 'merkur': [''], 'sazka': [''], 'synottip': [''], 'tipsport': ['']}, 'Ne': {'betano': [''], 'betx': [''], 'forbet': [''], 'fortuna': [''], 'kingsbet': [''], 'merkur': [''], 'sazka': [''], 'synottip': [''], 'tipsport': ['']}}}}, 'vice-mene-pocet-gamu-': {'names': {'betano': [''], 'betx': [''], 'forbet': [''], 'fortuna': [''], 'kingsbet': [''], 'merkur': [''], 'sazka': [''], 'synottip': [''], 'tipsport': ['']}, 'groups': {'2,5': {'vice-nez-22,5': {'betano': [''], 'betx': [''], 'forbet': [''], 'fortuna': [''], 'kingsbet': [''], 'merkur': [''], 'sazka': [''], 'synottip': [''], 'tipsport': ['']}, 'mene-nez-22,5': {'betano': [''], 'betx': [''], 'forbet': [''], 'fortuna': [''], 'kingsbet': [''], 'merkur': [''], 'sazka': [''], 'synottip': [''], 'tipsport': ['']}}}}}, 'ledni-hokej': {'vitez': {'names': {'betano': [''], 'betx': [''], 'forbet': [''], 'fortuna': [''], 'kingsbet': [''], 'merkur': [''], 'sazka': [''], 'synottip': [''], 'tipsport': ['']}, 'groups': {'-': {'1': {'betano': [''], 'betx': [''], 'forbet': [''], 'fortuna': [''], 'kingsbet': [''], 'merkur': [''], 'sazka': [''], 'synottip': [''], 'tipsport': ['']}, '2': {'betano': [''], 'betx': [''], 'forbet': [''], 'fortuna': [''], 'kingsbet': [''], 'merkur': [''], 'sazka': [''], 'synottip': [''], 'tipsport': ['']}}}}, 'vysledek-v-zakladni-hraci-dobe': {'names': {'betano': [''], 'betx': [''], 'forbet': [''], 'fortuna': [''], 'kingsbet': [''], 'merkur': [''], 'sazka': [''], 'synottip': [''], 'tipsport': ['']}, 'groups': {'-': {'1': {'betano': [''], 'betx': [''], 'forbet': [''], 'fortuna': [''], 'kingsbet': [''], 'merkur': [''], 'sazka': [''], 'synottip': [''], 'tipsport': ['']}, '0': {'betano': [''], 'betx': [''], 'forbet': [''], 'fortuna': [''], 'kingsbet': [''], 'merkur': [''], 'sazka': [''], 'synottip': [''], 'tipsport': ['']}, '2': {'betano': [''], 'betx': [''], 'forbet': [''], 'fortuna': [''], 'kingsbet': [''], 'merkur': [''], 'sazka': [''], 'synottip': [''], 'tipsport': ['']}}}}, 'vysledek-v-prvni-tretine': {'names': {'betano': [''], 'betx': [''], 'forbet': [''], 'fortuna': [''], 'kingsbet': [''], 'merkur': [''], 'sazka': [''], 'synottip': [''], 'tipsport': ['']}, 'groups': {'-': {'1': {'betano': [''], 'betx': [''], 'forbet': [''], 'fortuna': [''], 'kingsbet': [''], 'merkur': [''], 'sazka': [''], 'synottip': [''], 'tipsport': ['']}, '0': {'betano': [''], 'betx': [''], 'forbet': [''], 'fortuna': [''], 'kingsbet': [''], 'merkur': [''], 'sazka': [''], 'synottip': [''], 'tipsport': ['']}, '2': {'betano': [''], 'betx': [''], 'forbet': [''], 'fortuna': [''], 'kingsbet': [''], 'merkur': [''], 'sazka': [''], 'synottip': [''], 'tipsport': ['']}}}}, 'vysledek-ve-druhe-tretine': {'names': {'betano': [''], 'betx': [''], 'forbet': [''], 'fortuna': [''], 'kingsbet': [''], 'merkur': [''], 'sazka': [''], 'synottip': [''], 'tipsport': ['']}, 'groups': {'-': {'1': {'betano': [''], 'betx': [''], 'forbet': [''], 'fortuna': [''], 'kingsbet': [''], 'merkur': [''], 'sazka': [''], 'synottip': [''], 'tipsport': ['']}, '0': {'betano': [''], 'betx': [''], 'forbet': [''], 'fortuna': [''], 'kingsbet': [''], 'merkur': [''], 'sazka': [''], 'synottip': [''], 'tipsport': ['']}, '2': {'betano': [''], 'betx': [''], 'forbet': [''], 'fortuna': [''], 'kingsbet': [''], 'merkur': [''], 'sazka': [''], 'synottip': [''], 'tipsport': ['']}}}}, 'vysledek-ve-treti-tretine': {'names': {'betano': [''], 'betx': [''], 'forbet': [''], 'fortuna': [''], 'kingsbet': [''], 'merkur': [''], 'sazka': [''], 'synottip': [''], 'tipsport': ['']}, 'groups': {'-': {'1': {'betano': [''], 'betx': [''], 'forbet': [''], 'fortuna': [''], 'kingsbet': [''], 'merkur': [''], 'sazka': [''], 'synottip': [''], 'tipsport': ['']}, '0': {'betano': [''], 'betx': [''], 'forbet': [''], 'fortuna': [''], 'kingsbet': [''], 'merkur': [''], 'sazka': [''], 'synottip': [''], 'tipsport': ['']}, '2': {'betano': [''], 'betx': [''], 'forbet': [''], 'fortuna': [''], 'kingsbet': [''], 'merkur': [''], 'sazka': [''], 'synottip': [''], 'tipsport': ['']}}}}, 'vice-mene-pocet-golu': {'names': {'betano': [''], 'betx': [''], 'forbet': [''], 'fortuna': [''], 'kingsbet': [''], 'merkur': [''], 'sazka': [''], 'synottip': [''], 'tipsport': ['']}, 'groups': {'1,5': {'vice-nez-1,5': {'betano': [''], 'betx': [''], 'forbet': [''], 'fortuna': [''], 'kingsbet': [''], 'merkur': [''], 'sazka': [''], 'synottip': [''], 'tipsport': ['']}, 'mene-nez-1,5': {'betano': [''], 'betx': [''], 'forbet': [''], 'fortuna': [''], 'kingsbet': [''], 'merkur': [''], 'sazka': [''], 'synottip': [''], 'tipsport': ['']}}}}}, 'basketbal': {'vitez': {'names': {'betano': [''], 'betx': [''], 'forbet': [''], 'fortuna': [''], 'kingsbet': [''], 'merkur': [''], 'sazka': [''], 'synottip': [''], 'tipsport': ['']}, 'groups': {'-': {'1': {'betano': [''], 'betx': [''], 'forbet': [''], 'fortuna': [''], 'kingsbet': [''], 'merkur': [''], 'sazka': [''], 'synottip': [''], 'tipsport': ['']}, '2': {'betano': [''], 'betx': [''], 'forbet': [''], 'fortuna': [''], 'kingsbet': [''], 'merkur': [''], 'sazka': [''], 'synottip': [''], 'tipsport': ['']}}}}, 'vysledek-v-zakladni-hraci-dobe': {'names': {'betano': [''], 'betx': [''], 'forbet': [''], 'fortuna': [''], 'kingsbet': [''], 'merkur': [''], 'sazka': [''], 'synottip': [''], 'tipsport': ['']}, 'groups': {'-': {'1': {'betano': [''], 'betx': [''], 'forbet': [''], 'fortuna': [''], 'kingsbet': [''], 'merkur': [''], 'sazka': [''], 'synottip': [''], 'tipsport': ['']}, '0': {'betano': [''], 'betx': [''], 'forbet': [''], 'fortuna': [''], 'kingsbet': [''], 'merkur': [''], 'sazka': [''], 'synottip': [''], 'tipsport': ['']}, '2': {'betano': [''], 'betx': [''], 'forbet': [''], 'fortuna': [''], 'kingsbet': [''], 'merkur': [''], 'sazka': [''], 'synottip': [''], 'tipsport': ['']}}}}, 'vice-mene-pocet-bodu-1': {'names': {'betano': [''], 'betx': [''], 'forbet': [''], 'fortuna': [''], 'kingsbet': [''], 'merkur': [''], 'sazka': [''], 'synottip': [''], 'tipsport': ['']}, 'groups': {'8,5': {'vice-nez-168,5': {'betano': [''], 'betx': [''], 'forbet': [''], 'fortuna': [''], 'kingsbet': [''], 'merkur': [''], 'sazka': [''], 'synottip': [''], 'tipsport': ['']}, 'mene-nez-168,5': {'betano': [''], 'betx': [''], 'forbet': [''], 'fortuna': [''], 'kingsbet': [''], 'merkur': [''], 'sazka': [''], 'synottip': [''], 'tipsport': ['']}}}}}, 'other': {'vitez-bez-remizy': {'names': {'betano': [''], 'betx': [''], 'forbet': [''], 'fortuna': [''], 'kingsbet': [''], 'merkur': [''], 'sazka': [''], 'synottip': [''], 'tipsport': ['']}, 'groups': {'-': {'1': {'betano': [''], 'betx': [''], 'forbet': [''], 'fortuna': [''], 'kingsbet': [''], 'merkur': [''], 'sazka': [''], 'synottip': [''], 'tipsport': ['']}, '2': {'betano': [''], 'betx': [''], 'forbet': [''], 'fortuna': [''], 'kingsbet': [''], 'merkur': [''], 'sazka': [''], 'synottip': [''], 'tipsport': ['']}}}}, 'vysledek-zapasu-s-remizou': {'names': {'betano': [''], 'betx': [''], 'forbet': [''], 'fortuna': [''], 'kingsbet': [''], 'merkur': [''], 'sazka': [''], 'synottip': [''], 'tipsport': ['']}, 'groups': {'-': {'1': {'betano': [''], 'betx': [''], 'forbet': [''], 'fortuna': [''], 'kingsbet': [''], 'merkur': [''], 'sazka': [''], 'synottip': [''], 'tipsport': ['']}, '0': {'betano': [''], 'betx': [''], 'forbet': [''], 'fortuna': [''], 'kingsbet': [''], 'merkur': [''], 'sazka': [''], 'synottip': [''], 'tipsport': ['']}, '2': {'betano': [''], 'betx': [''], 'forbet': [''], 'fortuna': [''], 'kingsbet': [''], 'merkur': [''], 'sazka': [''], 'synottip': [''], 'tipsport': ['']}}}}}}\n"
     ]
    }
   ],
   "source": [
    "# script_dir = os.path.dirname(os.path.realpath(__file__))\n",
    "# bets_dict_path = os.path.join(script_dir, 'betscraper/betscraper/files/bets_dict_short.json')\n",
    "bets_dict_path = 'betscraper/betscraper/files/bets_dict_short.json'\n",
    "with open(bets_dict_path, 'r') as file:\n",
    "    bets_dict = json.load(file)\n",
    "bookmks_dict = {\n",
    "    \"betano\": [\"\"],\n",
    "    \"betx\": [\"\"],\n",
    "    \"forbet\": [\"\"],\n",
    "    \"fortuna\": [\"\"],\n",
    "    \"kingsbet\": [\"\"],\n",
    "    \"merkur\": [\"\"],\n",
    "    \"sazka\": [\"\"],\n",
    "    \"synottip\": [\"\"],\n",
    "    \"tipsport\": [\"\"]\n",
    "}\n",
    "new_dict = {}\n",
    "for sport_name, bet_name_dict in bets_dict.items():\n",
    "    new_dict[sport_name] = {}\n",
    "    for bet_name, bet_option_dict in bet_name_dict.items():\n",
    "        if bet_name[-2] == ',':\n",
    "            new_bet_name = bet_name[:-4]\n",
    "            group_name = bet_name[-3:]\n",
    "        else:\n",
    "            new_bet_name = bet_name\n",
    "            group_name = '-'\n",
    "        new_dict[sport_name][new_bet_name] = {}\n",
    "        new_dict[sport_name][new_bet_name]['names'] = bookmks_dict\n",
    "        new_dict[sport_name][new_bet_name]['groups'] = {}\n",
    "        new_dict[sport_name][new_bet_name]['groups'][group_name] = {}\n",
    "        for bet_option, bookmaker_bets_names_dict in bet_option_dict.items():\n",
    "            new_dict[sport_name][new_bet_name]['groups'][group_name][bet_option] = bookmks_dict\n",
    "print(new_dict)\n",
    "with open(\"betscraper/betscraper/files/bets_dict_short_new.json\", \"w\") as json_file:\n",
    "    json.dump(new_dict, json_file, indent=4)  # `indent` is optional for pretty printing"
   ]
  },
  {
   "cell_type": "code",
   "execution_count": 61,
   "metadata": {},
   "outputs": [
    {
     "name": "stdout",
     "output_type": "stream",
     "text": [
      "200\n",
      "200\n",
      "200\n"
     ]
    },
    {
     "data": {
      "text/plain": [
       "'{\"offerSuperSports\":[{\"id\":{\"superSportId\":43,\"superGroupId\":141},\"name\":\"Tenis\",\"tabs\":[{\"matchView'"
      ]
     },
     "execution_count": 61,
     "metadata": {},
     "output_type": "execute_result"
    }
   ],
   "source": [
    "from curl_cffi import requests\n",
    "import json\n",
    "\n",
    "\n",
    "url = \"https://www.tipsport.cz/rest/offer/v2/offer?limit=9999\"\n",
    "headers = {\n",
    "    'Cookie': \"JSESSIONID=VDtObLqIVjofqQQKsggrsz7KeU51mDbaE86pkBWS.czp-wt14\",\n",
    "    'Content-Type': 'application/json'\n",
    "}\n",
    "response_post = requests.request(\"POST\", url, headers=headers, data=json.dumps({}), impersonate='safari')\n",
    "# response_json = json.loads(response_post.text)¨\n",
    "if response_post.status_code == 200:\n",
    "    print(response_post.status_code)\n",
    "print(str(response_post.status_code))\n",
    "print(int(response_post.status_code))\n",
    "response_post.text[:100]"
   ]
  },
  {
   "cell_type": "code",
   "execution_count": 2,
   "metadata": {},
   "outputs": [
    {
     "name": "stdout",
     "output_type": "stream",
     "text": [
      "Headers({})\n",
      "Request Headers:\n",
      "\n",
      "Response Headers:\n",
      "date: Thu, 16 Jan 2025 18:42:14 GMT\n",
      "content-type: text/html; charset=UTF-8\n",
      "accept-ch: Sec-CH-UA-Bitness, Sec-CH-UA-Arch, Sec-CH-UA-Full-Version, Sec-CH-UA-Mobile, Sec-CH-UA-Model, Sec-CH-UA-Platform-Version, Sec-CH-UA-Full-Version-List, Sec-CH-UA-Platform, Sec-CH-UA, UA-Bitness, UA-Arch, UA-Full-Version, UA-Mobile, UA-Model, UA-Platform-Version, UA-Platform, UA\n",
      "critical-ch: Sec-CH-UA-Bitness, Sec-CH-UA-Arch, Sec-CH-UA-Full-Version, Sec-CH-UA-Mobile, Sec-CH-UA-Model, Sec-CH-UA-Platform-Version, Sec-CH-UA-Full-Version-List, Sec-CH-UA-Platform, Sec-CH-UA, UA-Bitness, UA-Arch, UA-Full-Version, UA-Mobile, UA-Model, UA-Platform-Version, UA-Platform, UA\n",
      "cross-origin-embedder-policy: require-corp\n",
      "cross-origin-opener-policy: same-origin\n",
      "cross-origin-resource-policy: same-origin\n",
      "origin-agent-cluster: ?1\n",
      "permissions-policy: accelerometer=(),autoplay=(),browsing-topics=(),camera=(),clipboard-read=(),clipboard-write=(),geolocation=(),gyroscope=(),hid=(),interest-cohort=(),magnetometer=(),microphone=(),payment=(),publickey-credentials-get=(),screen-wake-lock=(),serial=(),sync-xhr=(),usb=()\n",
      "referrer-policy: same-origin\n",
      "x-content-options: nosniff\n",
      "x-frame-options: SAMEORIGIN\n",
      "cf-mitigated: challenge\n",
      "cf-chl-out: uiR2HxGAR58Ft//M7eJz0VijhajFLWbD1McbCOvVJS4tbZHqiCc5Z+K2wkxEx03TGKY4cTnIvRAcvWHPqne275B6mwpnHVV3bm4CyOR3ac475m54tNioXJlrU/PAVxNYj9eCaacbypafN0BJfgZPvA==$dRJDgpUuOiohOnIwU99eag==\n",
      "cache-control: private, max-age=0, no-store, no-cache, must-revalidate, post-check=0, pre-check=0\n",
      "expires: Thu, 01 Jan 1970 00:00:01 GMT\n",
      "set-cookie: __cf_bm=ryVLor9gfIXdiKPVfjZX0mIFujitCRv03n9w7sKA7OE-1737052934-1.0.1.1-JskNZ1P8xKp.1i4J7WsKE1rMxm840YCCbPsB3VdvX_FkA.wBTLgI8oGlt00TLOfpQgmsD4UnqU7yN2PIJbXAnQ; path=/; expires=Thu, 16-Jan-25 19:12:14 GMT; domain=.tipsport.cz; HttpOnly; Secure\n",
      "vary: Accept-Encoding\n",
      "server: cloudflare\n",
      "cf-ray: 90303e8af968b330-PRG\n",
      "content-encoding: gzip\n",
      "\n",
      "Cookies from Response Headers:\n",
      "__cf_bm=ryVLor9gfIXdiKPVfjZX0mIFujitCRv03n9w7sKA7OE-1737052934-1.0.1.1-JskNZ1P8xKp.1i4J7WsKE1rMxm840YCCbPsB3VdvX_FkA.wBTLgI8oGlt00TLOfpQgmsD4UnqU7yN2PIJbXAnQ; path=/; expires=Thu, 16-Jan-25 19:12:14 GMT; domain=.tipsport.cz; HttpOnly; Secure\n"
     ]
    }
   ],
   "source": [
    "from curl_cffi import requests\n",
    "\n",
    "def get_cookies_from_request_and_response(url):\n",
    "    # Make a request using curl_cffi\n",
    "    response = requests.get(url)\n",
    "\n",
    "    # Extract request headers\n",
    "    request_headers = response.request.headers\n",
    "    print(request_headers)\n",
    "    print(\"Request Headers:\")\n",
    "    for key, value in request_headers.items():\n",
    "        print(f\"{key}: {value}\")\n",
    "\n",
    "    # Extract cookies from request headers (if present)\n",
    "    if 'Cookie' in request_headers:\n",
    "        print(\"\\nCookies from Request Headers:\")\n",
    "        print(request_headers['Cookie'])\n",
    "\n",
    "    # Extract response headers\n",
    "    response_headers = response.headers\n",
    "    print(\"\\nResponse Headers:\")\n",
    "    for key, value in response_headers.items():\n",
    "        print(f\"{key}: {value}\")\n",
    "\n",
    "    # Extract cookies from response headers (Set-Cookie)\n",
    "    if 'Set-Cookie' in response_headers:\n",
    "        print(\"\\nCookies from Response Headers:\")\n",
    "        print(response_headers['Set-Cookie'])\n",
    "\n",
    "# URL to visit\n",
    "url = 'https://www.tipsport.cz/kurzy.xml'\n",
    "\n",
    "# Run the function\n",
    "get_cookies_from_request_and_response(url)"
   ]
  }
 ],
 "metadata": {
  "kernelspec": {
   "display_name": ".conda",
   "language": "python",
   "name": "python3"
  },
  "language_info": {
   "codemirror_mode": {
    "name": "ipython",
    "version": 3
   },
   "file_extension": ".py",
   "mimetype": "text/x-python",
   "name": "python",
   "nbconvert_exporter": "python",
   "pygments_lexer": "ipython3",
   "version": "3.11.9"
  }
 },
 "nbformat": 4,
 "nbformat_minor": 2
}
