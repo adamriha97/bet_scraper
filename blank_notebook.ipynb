{
 "cells": [
  {
   "cell_type": "code",
   "execution_count": null,
   "metadata": {},
   "outputs": [],
   "source": [
    "import pandas as pd\n",
    "import json\n",
    "import os"
   ]
  },
  {
   "cell_type": "code",
   "execution_count": null,
   "metadata": {},
   "outputs": [],
   "source": [
    "# script_dir = os.path.dirname(os.path.realpath(__file__))\n",
    "# bets_dict_path = os.path.join(script_dir, 'betscraper/betscraper/files/bets_dict_short.json')\n",
    "bets_dict_path = 'betscraper/betscraper/files/bets_dict_short.json'\n",
    "with open(bets_dict_path, 'r') as file:\n",
    "    bets_dict = json.load(file)\n",
    "bookmks_dict = {\n",
    "    \"betano\": [\"\"],\n",
    "    \"betx\": [\"\"],\n",
    "    \"forbet\": [\"\"],\n",
    "    \"fortuna\": [\"\"],\n",
    "    \"kingsbet\": [\"\"],\n",
    "    \"merkur\": [\"\"],\n",
    "    \"sazka\": [\"\"],\n",
    "    \"synottip\": [\"\"],\n",
    "    \"tipsport\": [\"\"]\n",
    "}\n",
    "new_dict = {}\n",
    "for sport_name, bet_name_dict in bets_dict.items():\n",
    "    new_dict[sport_name] = {}\n",
    "    for bet_name, bet_option_dict in bet_name_dict.items():\n",
    "        if bet_name[-2] == ',':\n",
    "            new_bet_name = bet_name[:-4]\n",
    "            group_name = bet_name[-3:]\n",
    "        else:\n",
    "            new_bet_name = bet_name\n",
    "            group_name = '-'\n",
    "        new_dict[sport_name][new_bet_name] = {}\n",
    "        new_dict[sport_name][new_bet_name]['names'] = bookmks_dict\n",
    "        new_dict[sport_name][new_bet_name]['groups'] = {}\n",
    "        new_dict[sport_name][new_bet_name]['groups'][group_name] = {}\n",
    "        for bet_option, bookmaker_bets_names_dict in bet_option_dict.items():\n",
    "            new_dict[sport_name][new_bet_name]['groups'][group_name][bet_option] = bookmks_dict\n",
    "print(new_dict)\n",
    "with open(\"betscraper/betscraper/files/bets_dict_short_new.json\", \"w\") as json_file:\n",
    "    json.dump(new_dict, json_file, indent=4)  # `indent` is optional for pretty printing"
   ]
  },
  {
   "cell_type": "code",
   "execution_count": null,
   "metadata": {},
   "outputs": [],
   "source": [
    "from curl_cffi import requests\n",
    "import json\n",
    "\n",
    "\n",
    "url = \"https://www.tipsport.cz/rest/offer/v2/offer?limit=9999\"\n",
    "headers = {\n",
    "    'Cookie': \"JSESSIONID=VDtObLqIVjofqQQKsggrsz7KeU51mDbaE86pkBWS.czp-wt14\",\n",
    "    'Content-Type': 'application/json'\n",
    "}\n",
    "response_post = requests.request(\"POST\", url, headers=headers, data=json.dumps({}), impersonate='safari')\n",
    "# response_json = json.loads(response_post.text)¨\n",
    "if response_post.status_code == 200:\n",
    "    print(response_post.status_code)\n",
    "print(str(response_post.status_code))\n",
    "print(int(response_post.status_code))\n",
    "response_post.text[:100]"
   ]
  },
  {
   "cell_type": "code",
   "execution_count": null,
   "metadata": {},
   "outputs": [],
   "source": [
    "from curl_cffi import requests\n",
    "\n",
    "def get_cookies_from_request_and_response(url):\n",
    "    # Make a request using curl_cffi\n",
    "    response = requests.get(url)\n",
    "\n",
    "    # Extract request headers\n",
    "    request_headers = response.request.headers\n",
    "    print(request_headers)\n",
    "    print(\"Request Headers:\")\n",
    "    for key, value in request_headers.items():\n",
    "        print(f\"{key}: {value}\")\n",
    "\n",
    "    # Extract cookies from request headers (if present)\n",
    "    if 'Cookie' in request_headers:\n",
    "        print(\"\\nCookies from Request Headers:\")\n",
    "        print(request_headers['Cookie'])\n",
    "\n",
    "    # Extract response headers\n",
    "    response_headers = response.headers\n",
    "    print(\"\\nResponse Headers:\")\n",
    "    for key, value in response_headers.items():\n",
    "        print(f\"{key}: {value}\")\n",
    "\n",
    "    # Extract cookies from response headers (Set-Cookie)\n",
    "    if 'Set-Cookie' in response_headers:\n",
    "        print(\"\\nCookies from Response Headers:\")\n",
    "        print(response_headers['Set-Cookie'])\n",
    "\n",
    "# URL to visit\n",
    "url = 'https://www.tipsport.cz/kurzy.xml'\n",
    "\n",
    "# Run the function\n",
    "get_cookies_from_request_and_response(url)"
   ]
  },
  {
   "cell_type": "markdown",
   "metadata": {},
   "source": [
    "# TOR proxies for forbet"
   ]
  },
  {
   "cell_type": "code",
   "execution_count": 1,
   "metadata": {},
   "outputs": [
    {
     "name": "stdout",
     "output_type": "stream",
     "text": [
      "b'45.84.107.128\\n'\n",
      "b'195.47.238.176\\n'\n",
      "b'185.220.101.175\\n'\n",
      "b'193.189.100.195\\n'\n",
      "b'185.220.101.0\\n'\n"
     ]
    }
   ],
   "source": [
    "import time\n",
    "import socket\n",
    "import socks\n",
    "\n",
    "from urllib.request import urlopen\n",
    "from stem import Signal\n",
    "from stem.control import Controller\n",
    "\n",
    "from dotenv import load_dotenv\n",
    "import os\n",
    "\n",
    "\n",
    "load_dotenv()\n",
    "\n",
    "controller = Controller.from_port(port=9051)\n",
    "\n",
    "def connectTor():\n",
    "    socks.setdefaultproxy(socks.PROXY_TYPE_SOCKS5, \"127.0.0.1\", 9050, True)\n",
    "    socket.socket = socks.socksocket\n",
    "\n",
    "def renewTor():\n",
    "    controller.authenticate(os.environ.get(\"TOR_PASSWORD\"))\n",
    "    controller.signal(Signal.NEWNYM)\n",
    "\n",
    "def showIP():\n",
    "    print(urlopen('https://icanhazip.com').read())\n",
    "\n",
    "for i in range(5):\n",
    "    renewTor()\n",
    "    connectTor()\n",
    "    showIP()\n",
    "    time.sleep(10)"
   ]
  }
 ],
 "metadata": {
  "kernelspec": {
   "display_name": "Python 3",
   "language": "python",
   "name": "python3"
  },
  "language_info": {
   "codemirror_mode": {
    "name": "ipython",
    "version": 3
   },
   "file_extension": ".py",
   "mimetype": "text/x-python",
   "name": "python",
   "nbconvert_exporter": "python",
   "pygments_lexer": "ipython3",
   "version": "3.11.9"
  }
 },
 "nbformat": 4,
 "nbformat_minor": 2
}
